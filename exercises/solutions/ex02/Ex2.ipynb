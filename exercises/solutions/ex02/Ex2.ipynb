{
 "cells": [
  {
   "cell_type": "markdown",
   "metadata": {
    "nbgrader": {
     "grade": false,
     "grade_id": "cell-b81bc4fe3428522c",
     "locked": true,
     "schema_version": 3,
     "solution": false,
     "task": false
    }
   },
   "source": [
    "# Exercise 2: Markov Chains and Markov Decision Processes (MDP) \n",
    "\n",
    "This exercise deals with the formal handling of Markov chains and Markov decision processes. \n",
    "\n",
    "## 1) Markov Chain: State Transition\n",
    "The graph shows the last beer problem. \n",
    "The nodes show the states.\n",
    "The arrows define the possible transitions to other states and the numbers besides the arrows define the propability of the corresponding transition.\n",
    "If you are for example in the state \"Inital Beer\", with 30% propability you go to have a pizza, with 60% propability you meet friends and with 10% propability you end up sleeping.\n",
    "\n",
    "Define the state transition probability matrix $\\mathcal{P}_{xx'}$ of the graph shown in the figure below!\n",
    "\n",
    "![](Last_Beer_Graph.png)\n",
    "\n",
    "With $p_k = \\begin{bmatrix}\n",
    "\\text{Pr}_k \\lbrace \\text{Inital Beer} \\rbrace \\\\\n",
    "\\text{Pr}_k \\lbrace \\text{Meet Friends} \\rbrace \\\\\n",
    "\\text{Pr}_k \\lbrace \\text{Pizza} \\rbrace \\\\\n",
    "\\text{Pr}_k \\lbrace \\text{Another Beer} \\rbrace \\\\\n",
    "\\text{Pr}_k \\lbrace \\text{\"Last Beer\"}\\rbrace \\\\\n",
    "\\text{Pr}_k \\lbrace \\text{Sleep} \\rbrace \\\\\n",
    "\\end{bmatrix}^\\text{T}$"
   ]
  },
  {
   "cell_type": "markdown",
   "metadata": {
    "nbgrader": {
     "grade": true,
     "grade_id": "cell-39a3b8abaeef6740",
     "locked": false,
     "points": 0,
     "schema_version": 3,
     "solution": true,
     "task": false
    }
   },
   "source": [
    "## 1) Solution \n",
    "\n",
    "The state transition probability $\\mathcal{P}_{xx'} = \\begin{bmatrix}\n",
    "0 & 0.6 & 0.3 & 0 & 0 & 0.1 \\\\\n",
    "0 & 0 & 0.4 & 0.4 & 0.1 & 0.1 \\\\\n",
    "0 & 0 & 0 & 0.7 & 0 & 0.3 \\\\\n",
    "0 & 0 & 0 & 0.6 & 0.3 & 0.1 \\\\\n",
    "0 & 0 & 0 & 0 & 0 & 1 \\\\\n",
    "0 & 0 & 0 & 0 & 0 & 1\n",
    "\\end{bmatrix}$ \n",
    "\n"
   ]
  },
  {
   "cell_type": "markdown",
   "metadata": {
    "nbgrader": {
     "grade": false,
     "grade_id": "cell-7558d8217d56a6ce",
     "locked": true,
     "schema_version": 3,
     "solution": false,
     "task": false
    }
   },
   "source": [
    "## 2 ) Markov Chain: Stationary State\n",
    "Using $p = p \\mathcal{P}$, calculate the stationary state probability.\n",
    "\n",
    "Please note that the sum of the state propabilities equals one for any specific point in time."
   ]
  },
  {
   "cell_type": "markdown",
   "metadata": {
    "nbgrader": {
     "grade": true,
     "grade_id": "cell-70c9b80b439d6bf9",
     "locked": false,
     "points": 0,
     "schema_version": 3,
     "solution": true,
     "task": false
    }
   },
   "source": [
    "## 2) Solution\n",
    "\n",
    "\\begin{align}\n",
    "p &= p \\mathcal{P} \\\\\n",
    "p \\left( I_\\text{6} - \\mathcal{P}_{xx'} \\right) &= 0\n",
    "\\end{align}\n",
    "\n",
    "With:\n",
    "\n",
    "$\\left( I_\\text{6} - \\mathcal{P}_{xx'} \\right) = \\begin{bmatrix}\n",
    "1 & -0.6 & -0.3 & 0 & 0 & -0.1 \\\\\n",
    "0 & 1 & -0.4 & -0.4 & -0.1 & -0.1 \\\\\n",
    "0 & 0 & 1 & -0.7 & 0 & -0.3 \\\\\n",
    "0 & 0 & 0 & 0.4 & -0.3 & -0.1 \\\\\n",
    "0 & 0 & 0 & 0 & 1 & -1 \\\\\n",
    "0 & 0 & 0 & 0 & 0 & 0\n",
    "\\end{bmatrix}$ \n",
    "\n",
    "Solving for $p$ yields, that $p_{1,...,5} = 0$.\n",
    "\n",
    "Due to $\\sum_n p_n = 1$: $p_6 = 1$\n",
    "\n",
    "### What does this mean?\n",
    "\n",
    "In the end we all go to sleep, makes sense.\n",
    "\n"
   ]
  },
  {
   "cell_type": "markdown",
   "metadata": {
    "nbgrader": {
     "grade": false,
     "grade_id": "cell-79b786f9aa689326",
     "locked": true,
     "schema_version": 3,
     "solution": false,
     "task": false
    }
   },
   "source": [
    "## 3) Markov Reward Process: Evaluating States\n",
    "\n",
    "In the following rewards for every state are defined.\n",
    "\n",
    "Given the reward distribution $r_\\mathcal{X}$, calculate the state-values $v_\\mathcal{X}$.  \n",
    "\n",
    "The states are defined by:\n",
    "$\\mathcal{X} = \\left\\lbrace \\begin{matrix}\n",
    "\\text{Inital Beer}\\\\\n",
    "\\text{Meet Friends}\\\\\n",
    "\\text{Pizza}\\\\\n",
    "\\text{Another Beer}\\\\\n",
    "\\text{\"Last Beer\"}\\\\\n",
    "\\text{Sleep}\\\\\n",
    "\\end{matrix}\n",
    "\\right\\rbrace$\n",
    "\n",
    "The rewards are defined by:\n",
    "$r_\\mathcal{X} = \\begin{bmatrix}\n",
    "+1\\\\\n",
    "+1\\\\\n",
    "+2\\\\\n",
    "+1\\\\\n",
    "-3\\\\\n",
    "0\\\\\n",
    "\\end{bmatrix}$\n",
    "\n",
    "The state-value is defined by the state-value Bellman equation: $v_\\mathcal{X} = r_\\mathcal{X} + \\gamma \\mathcal{P}_{xx'} v_\\mathcal{X}$. Assume that $\\gamma = 0.9$ and write a Python program to calculate $v_\\mathcal{X}$. Which state is most promising? Why?\n",
    "\n",
    "Which state is most promising when $\\gamma = 0.1$?"
   ]
  },
  {
   "cell_type": "markdown",
   "metadata": {
    "nbgrader": {
     "grade": true,
     "grade_id": "cell-670e272fcc752ccd",
     "locked": false,
     "points": 0,
     "schema_version": 3,
     "solution": true,
     "task": false
    }
   },
   "source": [
    "## 3) Solution\n",
    "\n",
    "\\begin{align}\n",
    "v_\\mathcal{X} &= r_\\mathcal{X} + \\gamma \\mathcal{P}_{xx'} v_\\mathcal{X}\\\\\n",
    "v_\\mathcal{X} - \\gamma \\mathcal{P}_{xx'} v_\\mathcal{X} &= r_\\mathcal{X}\\\\\n",
    "\\left( I_6 - \\gamma \\mathcal{P}_{xx'} \\right) v_\\mathcal{X} &= r_\\mathcal{X}\\\\\n",
    "v_\\mathcal{X} &= \\left( I_6 - \\gamma \\mathcal{P}_{xx'} \\right)^{-1} r_\\mathcal{X}\\\\\n",
    "\\end{align}\n",
    "\n",
    "For $\\gamma=0.9$, the state \"Initial Beer\" has the highest state-value because the highest collectable reward can be expected for the paths one can take from there.\n",
    "\n",
    "For $\\gamma=0.1$, the future collectable reward has lost importance for the evaluation of the state-value, the state-value now gives a rather short-sighted estimation. Thus, the most valuable state can now be found to be the \"Pizza\"-state, as this state holds the highest immediate reward."
   ]
  },
  {
   "cell_type": "code",
   "execution_count": 14,
   "metadata": {
    "nbgrader": {
     "grade": false,
     "grade_id": "cell-065a09c73cd9262d",
     "locked": false,
     "schema_version": 3,
     "solution": true,
     "task": false
    }
   },
   "outputs": [
    {
     "name": "stdout",
     "output_type": "stream",
     "text": [
      "[[ 1.12751902]\n",
      " [ 1.09143404]\n",
      " [ 2.06776596]\n",
      " [ 0.96808511]\n",
      " [-3.        ]\n",
      " [ 0.        ]]\n"
     ]
    }
   ],
   "source": [
    "import numpy as np\n",
    "\n",
    "# define given parameters\n",
    "gamma = 0.1 # discount factor\n",
    "\n",
    "### BEGIN SOLUTION\n",
    "\n",
    "P_xx = np.array([[0, 0.6, 0.3, 0,   0,   0.1],\n",
    "                 [0, 0,   0.4, 0.4, 0.1, 0.1],\n",
    "                 [0, 0,   0,   0.7, 0,   0.3],\n",
    "                 [0, 0,   0,   0.6, 0.3, 0.1],\n",
    "                 [0, 0,   0,   0,   0,   1],\n",
    "                 [0, 0,   0,   0,   0,   1]]) # state trasition probability\n",
    "\n",
    "r_X = np.array([1, 1, 2, 1, -3 ,0]) # rewards\n",
    "r_X = r_X.reshape(6, -1) # make column vector\n",
    "\n",
    "v_X = np.matmul(np.linalg.inv(np.eye(6)-gamma*P_xx) , r_X)\n",
    "\n",
    "### END SOLUTION\n",
    "\n",
    "print(v_X)\n"
   ]
  },
  {
   "cell_type": "markdown",
   "metadata": {
    "nbgrader": {
     "grade": false,
     "grade_id": "cell-c36ce0660acbd6e3",
     "locked": true,
     "schema_version": 3,
     "solution": false,
     "task": false
    }
   },
   "source": [
    "## 4) Markov Decision Process: State Transition\n",
    "\n",
    "The graph shows an MDP.\n",
    "The nodes are the states. \n",
    "In every state you can choose between two actions (Lazy or Productive). \n",
    "Taken actions impact the state transition probability to the next state.\n",
    "If you for example have a \"Hangover\" and decide to be \"Productive\", there is a 30% chance for you to \"Visit Lecture\" and a 70% chance to stay in the \"Hangover\" state.\n",
    "\n",
    "Define the lazy state transition probabilitiy $\\mathcal{P}_{xx'}^{u=\\text{Lazy}}$ and the productive state transition probability $\\mathcal{P}_{xx'}^{u=\\text{Productive}}$ of the graph shown in the figure below.\n",
    "\n",
    "![](Hangover_MDP_Graph.png)\n",
    "\n",
    "With $p_k = \\begin{bmatrix}\n",
    "\\text{Pr}_k \\lbrace \\text{Hangover} \\rbrace \\\\\n",
    "\\text{Pr}_k \\lbrace \\text{Sleep} \\rbrace \\\\\n",
    "\\text{Pr}_k \\lbrace \\text{More Sleep} \\rbrace \\\\\n",
    "\\text{Pr}_k \\lbrace \\text{Visit Lecture} \\rbrace \\\\\n",
    "\\text{Pr}_k \\lbrace \\text{Study}\\rbrace \\\\\n",
    "\\text{Pr}_k \\lbrace \\text{Pass the Exam} \\rbrace \\\\\n",
    "\\end{bmatrix}^\\text{T}$"
   ]
  },
  {
   "cell_type": "markdown",
   "metadata": {
    "nbgrader": {
     "grade": false,
     "grade_id": "cell-0476b4adb0cb2c85",
     "locked": true,
     "points": 0,
     "schema_version": 3,
     "solution": false,
     "task": true
    }
   },
   "source": [
    "## 4) Solution\n",
    "\n",
    "\n",
    "\\begin{align}\n",
    "\\mathcal{P}_{xx'}^{u=\\text{Lazy}}&=\\begin{bmatrix}\n",
    "0 & 1 & 0 & 0 & 0   & 0\\\\\n",
    "0 & 0 & 1 & 0 & 0   & 0\\\\\n",
    "0 & 0 & 1 & 0 & 0   & 0\\\\\n",
    "0 & 0 & 0 & 0 & 0.8 & 0.2\\\\ \n",
    "0 & 0 & 1 & 0 & 0   & 0\\\\\n",
    "0 & 0 & 0 & 0 & 0   & 1\\\\\n",
    "\\end{bmatrix}\\\\\n",
    "\\mathcal{P}_{xx'}^{u=\\text{Productive}}&=\\begin{bmatrix}\n",
    "0.7 & 0 & 0   & 0.3 & 0   & 0\\\\\n",
    "0   & 0 & 0.4 & 0.6 & 0   & 0\\\\\n",
    "0   & 0 & 0.5 & 0   & 0.5 & 0\\\\\n",
    "0   & 0 & 0   & 0   & 1   & 0\\\\ \n",
    "0   & 0 & 0   & 0   & 0.1 & 0.9\\\\\n",
    "0   & 0 & 0   & 0   & 0   & 1\\\\\n",
    "\\end{bmatrix}\n",
    "\\end{align}"
   ]
  },
  {
   "cell_type": "markdown",
   "metadata": {
    "nbgrader": {
     "grade": false,
     "grade_id": "cell-c972e01f5bf1aa95",
     "locked": true,
     "schema_version": 3,
     "solution": false,
     "task": false
    }
   },
   "source": [
    "## 5) Markov Decision Process: Trivial Policy Evaluation\n",
    "\n",
    "The rewards for this problem are defined by:\n",
    "$r_\\mathcal{X} = r_\\mathcal{X}^{u=\\text{Productive}} = r_\\mathcal{X}^{u=\\text{Lazy}} = \\begin{bmatrix}\n",
    "-1\\\\\n",
    "-1\\\\\n",
    "-1\\\\\n",
    "-1\\\\\n",
    "-1\\\\\n",
    "0\\\\\n",
    "\\end{bmatrix}$.\n",
    "\n",
    "How can we interprete these rewards?\n",
    "Evaluate both the lazy policy and the productive policy using $\\gamma = 0.9$.\n",
    "\n",
    "Bonus question: Can we evaluate the state-value of $\\lbrace x=\\text{More Sleep}, u=\\text{Lazy}\\rbrace$ for an infinite time horizon without the use of the Bellman equation?"
   ]
  },
  {
   "cell_type": "markdown",
   "metadata": {
    "nbgrader": {
     "grade": true,
     "grade_id": "cell-ec5a4ac90a58ac12",
     "locked": false,
     "points": 0,
     "schema_version": 3,
     "solution": true,
     "task": false
    }
   },
   "source": [
    "## 5) Solution\n",
    "\n",
    "The given rewards can be interpreted as a penalty for wasting time. The earlier you pass, the better :)"
   ]
  },
  {
   "cell_type": "code",
   "execution_count": 1,
   "metadata": {
    "nbgrader": {
     "grade": false,
     "grade_id": "cell-7da3b2398127ac8e",
     "locked": false,
     "schema_version": 3,
     "solution": true,
     "task": false
    }
   },
   "outputs": [
    {
     "name": "stdout",
     "output_type": "stream",
     "text": [
      "[[-10. ]\n",
      " [-10. ]\n",
      " [-10. ]\n",
      " [ -8.2]\n",
      " [-10. ]\n",
      " [  0. ]]\n",
      "[[-4.15414315]\n",
      " [-3.05228771]\n",
      " [-2.71728272]\n",
      " [-1.98901099]\n",
      " [-1.0989011 ]\n",
      " [ 0.        ]]\n"
     ]
    }
   ],
   "source": [
    "import numpy as np\n",
    "\n",
    "### BEGIN SOLUTION\n",
    "\n",
    "P_xx_lazy = np.array([[0, 1, 0, 0, 0,   0],\n",
    "                      [0, 0, 1, 0, 0,   0],\n",
    "                      [0, 0, 1, 0, 0,   0],\n",
    "                      [0, 0, 0, 0, 0.8, 0.2],\n",
    "                      [0, 0, 1, 0, 0,   0],\n",
    "                      [0, 0, 0, 0, 0,   1]])\n",
    "\n",
    "P_xx_productive = np.array([[0.7,  0,   0,   0.3, 0,   0],\n",
    "                            [0,    0,   0.4, 0.6, 0,   0],\n",
    "                            [0,    0,   0.5, 0,   0.5, 0],\n",
    "                            [0,    0,   0,   0,   1,   0],\n",
    "                            [0,    0,   0,   0,   0.1, 0.9],\n",
    "                            [0,    0,   0,   0,   0,   1]])\n",
    "\n",
    "for P_xx in [P_xx_lazy, P_xx_productive]:\n",
    "\n",
    "    gamma = 0.9\n",
    "\n",
    "    r_X = np.array([-1, -1, -1, -1, -1, 0])\n",
    "    r_X = r_X.reshape(6, -1)\n",
    "\n",
    "    v_X = np.matmul(np.linalg.inv(np.eye(6)-gamma*P_xx) , r_X)\n",
    "\n",
    "    print(v_X)\n",
    "    \n",
    "### END SOLUTION"
   ]
  },
  {
   "cell_type": "code",
   "execution_count": 3,
   "metadata": {
    "nbgrader": {
     "grade": false,
     "grade_id": "cell-f336cf334f83fe6d",
     "locked": false,
     "schema_version": 3,
     "solution": true,
     "task": false
    }
   },
   "outputs": [
    {
     "name": "stdout",
     "output_type": "stream",
     "text": [
      "-10.000000000000002\n"
     ]
    }
   ],
   "source": [
    "# Bonus question: Can we evaluate the state-value of {𝑥=More Sleep,𝑢=Lazy} for an infinite time horizon without the use of the Bellman equation?\n",
    "\n",
    "\n",
    "### BEGIN SOLUTION\n",
    "# We can evaluate the \"More Sleep\" state for an infinite time horizon because the reward will stay the same forever.\n",
    "# Thus, we can make use of the geometric series convergence. Due to numeric inaccuracy results may deviate slightly.\n",
    "import numpy as np\n",
    "\n",
    "v_3 = -1*1/(1-0.9)\n",
    "print(v_3)\n",
    "\n",
    "### END SOLUTION"
   ]
  },
  {
   "cell_type": "markdown",
   "metadata": {
    "nbgrader": {
     "grade": false,
     "grade_id": "cell-0058e2bd53d74195",
     "locked": true,
     "schema_version": 3,
     "solution": false,
     "task": false
    }
   },
   "source": [
    "## 6) Action-Value Function Evalution\n",
    "\n",
    "Now, the policy is defined by:\n",
    "\\begin{align}\n",
    "\\pi(u_k=\\text{Productive} | x_k)&=\\alpha,\\\\\n",
    "\\pi(u_k=\\text{Lazy} | x_k)&=1-\\alpha, \\forall x_k \\in \\mathcal{X}\n",
    "\\end{align}\n",
    "\n",
    "Calculate action-values for the problem as described using the 'fifty-fifty' policy ($\\alpha = 0.5$) according to the Bellman Expectation Equation: $q_\\pi(x_k, u_k) = \\mathcal{R}^u_x + \\gamma \\sum_{x_{k+1} \\in \\mathcal{X}} p^u_{xx'} v_\\pi(x_{k+1})$ $\\forall x_k, u_k \\in \\mathcal{X}, \\mathcal{U}$."
   ]
  },
  {
   "cell_type": "markdown",
   "metadata": {
    "nbgrader": {
     "grade": false,
     "grade_id": "cell-63b67694ef859466",
     "locked": true,
     "schema_version": 3,
     "solution": false,
     "task": false
    }
   },
   "source": [
    "## 6) Solution\n"
   ]
  },
  {
   "cell_type": "code",
   "execution_count": 2,
   "metadata": {
    "nbgrader": {
     "grade": false,
     "grade_id": "cell-c39018db625f6a27",
     "locked": false,
     "schema_version": 3,
     "solution": true,
     "task": false
    }
   },
   "outputs": [
    {
     "name": "stdout",
     "output_type": "stream",
     "text": [
      "[[-6.07176629 -5.82932926]\n",
      " [-6.07830245 -5.1922893 ]\n",
      " [-6.07830245 -5.20681411]\n",
      " [-3.66826061 -4.33532576]\n",
      " [-6.07830245 -1.33353258]\n",
      " [ 0.          0.        ]]\n"
     ]
    }
   ],
   "source": [
    "import numpy as np\n",
    "\n",
    "gamma = 0.9\n",
    "alpha = 0.5\n",
    "no_states = 6\n",
    "no_actions = 2\n",
    "q_XU = np.zeros([no_states, no_actions])\n",
    "\n",
    "### BEGIN SOLUTION\n",
    "\n",
    "P_xx_lazy = np.array([[0, 1, 0, 0, 0,   0],\n",
    "                      [0, 0, 1, 0, 0,   0],\n",
    "                      [0, 0, 1, 0, 0,   0],\n",
    "                      [0, 0, 0, 0, 0.8, 0.2],\n",
    "                      [0, 0, 1, 0, 0,   0],\n",
    "                      [0, 0, 0, 0, 0,   1]])\n",
    "\n",
    "P_xx_productive = np.array([[0.7,  0,   0,   0.3, 0,   0],\n",
    "                            [0,    0,   0.4, 0.6, 0,   0],\n",
    "                            [0,    0,   0.5, 0,   0.5, 0],\n",
    "                            [0,    0,   0,   0,   1,   0],\n",
    "                            [0,    0,   0,   0,   0.1, 0.9],\n",
    "                            [0,    0,   0,   0,   0,   1]])\n",
    "\n",
    "P_xx_mean = alpha*P_xx_productive + (1-alpha)*P_xx_lazy\n",
    "\n",
    "r_X = np.array([-1, -1, -1, -1, -1, 0])\n",
    "r_X = r_X.reshape(6, -1)\n",
    "v_X = np.matmul(np.linalg.inv(np.eye(6)-gamma*P_xx_mean) , r_X)\n",
    "\n",
    "for x_idx in range(no_states):\n",
    "    for u_idx in range(no_actions):\n",
    "        \n",
    "        if u_idx == 0:\n",
    "            P_xx_u = P_xx_lazy\n",
    "        elif u_idx == 1:\n",
    "            P_xx_u = P_xx_productive\n",
    "            \n",
    "        q_XU[x_idx, u_idx] = r_X[x_idx] + gamma * np.matmul(P_xx_u[x_idx, :], v_X)\n",
    "        \n",
    "\n",
    "print(q_XU)\n",
    "### END SOLUTION"
   ]
  },
  {
   "cell_type": "markdown",
   "metadata": {
    "nbgrader": {
     "grade": false,
     "grade_id": "cell-234818bf849f0638",
     "locked": true,
     "schema_version": 3,
     "solution": false,
     "task": false
    }
   },
   "source": [
    "## 7) Markov Decision Problem: Stochastic Policy Evalution\n",
    "\n",
    "Plot the state-value of the states \"Lecture\" and \"Study\" for different $\\alpha$. What do we see? Why?"
   ]
  },
  {
   "cell_type": "markdown",
   "metadata": {
    "nbgrader": {
     "grade": false,
     "grade_id": "cell-f8b7c0c069fbda39",
     "locked": true,
     "schema_version": 3,
     "solution": false,
     "task": false
    }
   },
   "source": [
    "## 7) Solution"
   ]
  },
  {
   "cell_type": "code",
   "execution_count": 3,
   "metadata": {
    "nbgrader": {
     "grade": false,
     "grade_id": "cell-58dae08eed6fcc5a",
     "locked": false,
     "schema_version": 3,
     "solution": true,
     "task": false
    }
   },
   "outputs": [],
   "source": [
    "import numpy as np\n",
    "import matplotlib.pyplot as plt\n",
    "plt.style.use('seaborn-talk')\n",
    "\n",
    "n = 6 # dimension of state space\n",
    "no_of_samples = 1000\n",
    "\n",
    "alphas = np.linspace(0, 1, no_of_samples)\n",
    "v_n_alpha = np.zeros([n, no_of_samples])\n",
    "\n",
    "### BEGIN SOLUTION\n",
    "\n",
    "P_xx_lazy = np.array([[0, 1, 0, 0, 0,   0],\n",
    "                      [0, 0, 1, 0, 0,   0],\n",
    "                      [0, 0, 1, 0, 0,   0],\n",
    "                      [0, 0, 0, 0, 0.8, 0.2],\n",
    "                      [0, 0, 1, 0, 0,   0],\n",
    "                      [0, 0, 0, 0, 0,   1]])\n",
    "\n",
    "P_xx_productive = np.array([[0.7,  0,   0,   0.3, 0,   0],\n",
    "                            [0,    0,   0.4, 0.6, 0,   0],\n",
    "                            [0,    0,   0.5, 0,   0.5, 0],\n",
    "                            [0,    0,   0,   0,   1,   0],\n",
    "                            [0,    0,   0,   0,   0.1, 0.9],\n",
    "                            [0,    0,   0,   0,   0,   1]])\n",
    "\n",
    "\n",
    "\n",
    "for alpha_idx in range(len(alphas)):\n",
    "\n",
    "    P_xx_mean = alphas[alpha_idx]*P_xx_productive + (1-alphas[alpha_idx])*P_xx_lazy\n",
    "\n",
    "    gamma = 0.9\n",
    "\n",
    "    r_X = np.array([-1, -1, -1, -1, -1, 0])\n",
    "    r_X = r_X.reshape(6, -1)\n",
    "\n",
    "    v_X = np.matmul(np.linalg.inv(np.eye(6)-gamma*P_xx_mean) , r_X)\n",
    "    v_n_alpha[:, alpha_idx] = np.squeeze(v_X)\n",
    "    \n",
    "### END SOLUTION"
   ]
  },
  {
   "cell_type": "code",
   "execution_count": 4,
   "metadata": {
    "nbgrader": {
     "grade": false,
     "grade_id": "cell-ce3713de655bb104",
     "locked": false,
     "schema_version": 3,
     "solution": true,
     "task": false
    }
   },
   "outputs": [
    {
     "data": {
      "text/plain": [
       "(-10, 0)"
      ]
     },
     "execution_count": 4,
     "metadata": {},
     "output_type": "execute_result"
    },
    {
     "data": {
      "image/png": "[encoded data removed]",
      "text/plain": [
       "<Figure size 720x432 with 1 Axes>"
      ]
     },
     "metadata": {
      "needs_background": "light"
     },
     "output_type": "display_data"
    }
   ],
   "source": [
    "plt.figure(figsize=[10, 6])\n",
    "states = np.array([\"Hangover\", \"Sleep\", \"More Sleep\", \"Visit Lecture\", \"Study\", \"Pass Exam\"])\n",
    "for n_idx in range(n):\n",
    "    if (n_idx == 3) or (n_idx == 4):\n",
    "        plt.plot(alphas, v_n_alpha[n_idx, :], \"--\", label=r\"$x=${}\".format(states[n_idx]))\n",
    "    else:\n",
    "        plt.plot(alphas, v_n_alpha[n_idx, :], label=r\"$x=${}\".format(states[n_idx]))\n",
    "    \n",
    "plt.legend()\n",
    "plt.xlabel(r\"$\\alpha$\")\n",
    "plt.ylabel(r\"$v_\\pi(x)$\")\n",
    "plt.xlim([0, 1])\n",
    "plt.ylim([-10, 0])"
   ]
  },
  {
   "cell_type": "markdown",
   "metadata": {
    "nbgrader": {
     "grade": true,
     "grade_id": "cell-af98cbff882e9d6f",
     "locked": false,
     "points": 0,
     "schema_version": 3,
     "solution": true,
     "task": false
    }
   },
   "source": [
    "If you are rather lazy (low $\\alpha$), there is a good chance a studying session will end in just going to sleep. Hence, your chance (in general) to pass is lower if you tend to be lazy (due to lower $v_\\pi(x)$), but you should at least visit the lecture in order to go to the exam.\n",
    "\n",
    "If you are more productive (high $\\alpha$), studying raises your chances for passing significantly.\n",
    "\n",
    "Result: In order to be as lazy as possible, please visit the lecture :)"
   ]
  }
 ],
 "metadata": {
  "celltoolbar": "Create Assignment",
  "kernelspec": {
   "display_name": "Python 3",
   "language": "python",
   "name": "python3"
  },
  "language_info": {
   "codemirror_mode": {
    "name": "ipython",
    "version": 3
   },
   "file_extension": ".py",
   "mimetype": "text/x-python",
   "name": "python",
   "nbconvert_exporter": "python",
   "pygments_lexer": "ipython3",
   "version": "3.7.4"
  }
 },
 "nbformat": 4,
 "nbformat_minor": 2
}
