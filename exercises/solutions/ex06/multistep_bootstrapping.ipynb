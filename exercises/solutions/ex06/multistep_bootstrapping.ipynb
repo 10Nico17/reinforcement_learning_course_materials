{
 "cells": [
  {
   "cell_type": "markdown",
   "metadata": {
    "nbgrader": {
     "grade": false,
     "grade_id": "cell-c833698b7dad927d",
     "locked": true,
     "schema_version": 3,
     "solution": false,
     "task": false
    }
   },
   "source": [
    "# Exercise 6: Multi-Step Bootstrapping"
   ]
  },
  {
   "cell_type": "markdown",
   "metadata": {
    "nbgrader": {
     "grade": false,
     "grade_id": "cell-7cf627dacfec200a",
     "locked": true,
     "schema_version": 3,
     "solution": false,
     "task": false
    }
   },
   "source": [
    "In this exercise we will have a look at n-step methods and eligibility trace. The n-step methods are a class of reinforcement learning algorithms that are an abstraction of the Monte Carlo and TD(0) methods discussed earlier and include them as special cases. Furthermore, we also consider the eligibility traces, which take a reverse approach to determining the state values. The environment we will be dealing with is a little more typical for control research: the inverted pendulum. \n",
    "\n",
    "![](https://miro.medium.com/max/1000/1*TNo3x9zDi1lVOH_3ncG7Aw.gif)\n",
    "\n",
    "To implement this environment, we will make use of the gymnasium library. Please install the gymnasium library within your preferred Python environment using:\n",
    "\n",
    "```pip install gymnasium```"
   ]
  },
  {
   "cell_type": "code",
   "execution_count": 1,
   "metadata": {
    "nbgrader": {
     "grade": false,
     "grade_id": "cell-68ba542456c544d2",
     "locked": true,
     "schema_version": 3,
     "solution": false,
     "task": false
    }
   },
   "outputs": [],
   "source": [
    "import numpy as np\n",
    "import gymnasium as gym\n",
    "from tqdm.notebook import tqdm\n",
    "import matplotlib.pyplot as plt\n",
    "plt.style.use('seaborn')"
   ]
  },
  {
   "cell_type": "markdown",
   "metadata": {
    "nbgrader": {
     "grade": false,
     "grade_id": "cell-b9853bfaec1d8013",
     "locked": true,
     "schema_version": 3,
     "solution": false,
     "task": false
    }
   },
   "source": [
    "Check if the installation and import work by executing the following cell. A window with an animation of the pendulum should open, display some random actions, and close automatically."
   ]
  },
  {
   "cell_type": "code",
   "execution_count": 2,
   "metadata": {
    "nbgrader": {
     "grade": false,
     "grade_id": "cell-8e133fbe2615fd5b",
     "locked": true,
     "schema_version": 3,
     "solution": false,
     "task": false
    }
   },
   "outputs": [],
   "source": [
    "env = gym.make('Pendulum-v1', render_mode=\"human\")\n",
    "env = env.unwrapped # removes a built-in time limit of k_T = 200, we want to determine the time limit ourselves\n",
    "\n",
    "state, _ = env.reset()\n",
    "for _ in range(300):\n",
    "    # env.render()\n",
    "    state, reward, terminated, _, _ = env.step(env.action_space.sample()) # take a random action\n",
    "env.close()"
   ]
  },
  {
   "cell_type": "markdown",
   "metadata": {
    "nbgrader": {
     "grade": false,
     "grade_id": "cell-f29246bdc3e421c0",
     "locked": true,
     "schema_version": 3,
     "solution": false,
     "task": false
    }
   },
   "source": [
    "The goal of this environment is to bring the pendulum into the upper neutral position, where the angle $\\theta = 0$ and the angular velocitiy $\\frac{\\text{d}}{\\text{d}t}\\theta=\\omega=0$. The reward function is already designed that way and does not need further specification. For further information about the environment you may refer to the code and documentation of Farama Foundation's `gymnasium`:\n",
    "\n",
    "[Documentation of the gymnasium pendulum](https://gymnasium.farama.org/environments/classic_control/pendulum/)\n",
    "\n",
    "[Pendulum environment in the gymnasium Github repository](https://github.com/Farama-Foundation/Gymnasium/blob/main/gymnasium/envs/classic_control/pendulum.py)"
   ]
  },
  {
   "cell_type": "markdown",
   "metadata": {
    "nbgrader": {
     "grade": false,
     "grade_id": "cell-8570b84cc28ffc4d",
     "locked": true,
     "schema_version": 3,
     "solution": false,
     "task": false
    }
   },
   "source": [
    "## 1) Discretization of Action and State Space"
   ]
  },
  {
   "cell_type": "markdown",
   "metadata": {
    "nbgrader": {
     "grade": false,
     "grade_id": "cell-ee59383187979c94",
     "locked": true,
     "schema_version": 3,
     "solution": false,
     "task": false
    }
   },
   "source": [
    "Unlike the racetrack environment, the inverted pendulum comes with a continuous action and state space. Although it is possible to handle systems with these characteristics, we did not yet learn how to deal with them. For now, we only know how to implement agents for discrete action and state spaces. Accordingly, we will also try to represent the inverted pendulum within a discrete state / action space. For this, a discretization is necessary.\n",
    "\n",
    "The pendulum has three state variables relating to the momentary angular position $\\theta$:\n",
    "\\begin{align*}\n",
    "    x=\\begin{bmatrix}\n",
    "    \\text{cos}(\\theta)\\\\\n",
    "    \\text{sin}(\\theta)\\\\\n",
    "    \\frac{\\text{d}}{\\text{d}t}\\theta\n",
    "    \\end{bmatrix}\n",
    "    \\in\n",
    "    \\begin{bmatrix}\n",
    "    [-1, 1]\\\\\n",
    "    [-1, 1]\\\\\n",
    "    [-8 \\, \\frac{1}{\\text{s}}, 8 \\, \\frac{1}{\\text{s}}]\n",
    "    \\end{bmatrix},\n",
    "\\end{align*}\n",
    "\n",
    "and one input variable which relates to the torque applied at the axis of rotation:\n",
    "\n",
    "$u = T \\in [-2 \\, \\text{N}\\cdot\\text{m}, 2 \\, \\text{N}\\cdot\\text{m}]$\n",
    "\n",
    "After the discretization, we want the system to be defined on sets of non-negative natural numbers:\n",
    "\n",
    "\\begin{align*}\n",
    "    x_d =\n",
    "    \\text{discretize_state}(x)\n",
    "    \\in\n",
    "    \\begin{bmatrix}\n",
    "    \\{0,1,2,...,d_{\\theta}-1\\}\\\\\n",
    "    \\{0,1,2,...,d_{\\theta}-1\\}\\\\\n",
    "    \\{0,1,2,...,d_{\\omega}-1\\}\n",
    "    \\end{bmatrix},\n",
    "\\end{align*}\n",
    "\n",
    "$\n",
    "u_d =\n",
    "\\text{discretize_action}(u)\n",
    "\\in\n",
    "\\{0,1,2,...,d_{T}-1\\}.\n",
    "$\n",
    "\n",
    "Since action is selected within the discrete action space, we need to transform it accordingly:\n",
    "\n",
    "$\n",
    "u=\n",
    "\\text{continualize_action}(u_d):\n",
    "\\{0,1,2,...,d_{T}-1\\} \\rightarrow [-2 \\, \\text{N}\\cdot\\text{m}, 2 \\, \\text{N}\\cdot\\text{m}]\n",
    ".\n",
    "$"
   ]
  },
  {
   "cell_type": "markdown",
   "metadata": {
    "nbgrader": {
     "grade": false,
     "grade_id": "cell-28b6b992373b4a65",
     "locked": true,
     "schema_version": 3,
     "solution": false,
     "task": false
    }
   },
   "source": [
    "Write the functions `discretize_state` and `continualize_action`, such that a discrete RL agent can be applied. (Please note that all I/O of `gymnasium` consists of numpy arrays.) Write the functions in such a way that the number of discretization intervals $d_\\theta, d_\\omega, d_T$ are parameters that can be changed for different tests. The discretization intervals should be uniformly distributed on their respective state space.\n",
    "\n",
    "A parametrization of $d_\\theta = d_\\omega = d_T = 15$ can be used to yield satisfactory results in this exercise.\n",
    "However, does it make a difference if the number of discretization intervals is odd or even? If yes, what should be preferred for the given environment? "
   ]
  },
  {
   "cell_type": "markdown",
   "metadata": {
    "nbgrader": {
     "grade": false,
     "grade_id": "cell-cfd4a4f7a22ce35c",
     "locked": true,
     "schema_version": 3,
     "solution": false,
     "task": false
    }
   },
   "source": [
    "## Solution 1)"
   ]
  },
  {
   "cell_type": "markdown",
   "metadata": {
    "nbgrader": {
     "grade": true,
     "grade_id": "cell-cf67ba4807c7ce8c",
     "locked": false,
     "points": 0,
     "schema_version": 3,
     "solution": true,
     "task": false
    }
   },
   "source": [
    "Code given below.\n",
    "\n",
    "The number of discretization intervals can in fact make a difference in this case. The inverted pendulum can be considered as solved when brought into the upper neutral position $\\theta=0, \\omega=0$. The state as given by `gymnasium` would therefore be:\n",
    "\n",
    "\\begin{align*}\n",
    "x_\\text{neutral}=\n",
    "\\begin{bmatrix}\n",
    "\\text{cos}(0)\\\\\n",
    "\\text{sin}(0)\\\\\n",
    "0\n",
    "\\end{bmatrix}\n",
    "=\n",
    "\\begin{bmatrix}\n",
    "1\\\\\n",
    "0\\\\\n",
    "0\n",
    "\\end{bmatrix},\n",
    "u_\\text{neutral}=0\n",
    "\\end{align*}\n",
    "\n",
    "Consequently, the discretization / continualization should allow for precise transformation of this state, which is given when assuming an odd number of discretization intervals. If one uses an even number of intervals, one interval boundary will be located exactly at zero, potentially leading to rapid bouncing around the neutral position."
   ]
  },
  {
   "cell_type": "code",
   "execution_count": 3,
   "metadata": {
    "nbgrader": {
     "grade": false,
     "grade_id": "cell-af38d4d166803785",
     "locked": false,
     "schema_version": 3,
     "solution": true,
     "task": false
    }
   },
   "outputs": [],
   "source": [
    "d_T = 15\n",
    "d_theta = 15\n",
    "d_omega = 15\n",
    "\n",
    "\n",
    "def discretize_state(states):\n",
    "\n",
    "    ### BEGIN SOLUTION\n",
    "\n",
    "    limits = [1, 1, 8]\n",
    "    nb_disc_intervals = [d_theta, d_theta, d_omega]\n",
    "\n",
    "    q_intervals = [np.linspace(-l, l, i+1)\n",
    "                   for l, i in zip(limits, nb_disc_intervals)]\n",
    "    # Clipping is necessary due to linspacing with an additional interval, which in turn is necessary\n",
    "    #  for how numpy.digitize works (i.e., it floors the continuous value)\n",
    "    return np.array([np.digitize(s, q).clip(max=q.size - 1) - 1 for s, q in zip(states, q_intervals)],\n",
    "                    dtype=int)  # int is necessary for indexing\n",
    "    ### END SOLUTION\n",
    "\n",
    "\n",
    "def continualize_action(disc_action):\n",
    "\n",
    "    ### BEGIN SOLUTION\n",
    "\n",
    "    limit = 2\n",
    "    interval_length = 2 / (d_T-1)\n",
    "    norm_action = disc_action * interval_length\n",
    "    cont_action = (norm_action - 1) * limit\n",
    "    return np.array(cont_action).flatten()\n",
    "\n",
    "    ### END SOLUTION\n"
   ]
  },
  {
   "cell_type": "markdown",
   "metadata": {
    "nbgrader": {
     "grade": false,
     "grade_id": "cell-54296429c6a25f98",
     "locked": true,
     "schema_version": 3,
     "solution": false,
     "task": false
    }
   },
   "source": [
    "Use the following cell for debugging:"
   ]
  },
  {
   "cell_type": "code",
   "execution_count": 4,
   "metadata": {
    "nbgrader": {
     "grade": false,
     "grade_id": "cell-755b0b9277910870",
     "locked": true,
     "schema_version": 3,
     "solution": false,
     "task": false
    }
   },
   "outputs": [
    {
     "name": "stdout",
     "output_type": "stream",
     "text": [
      "discrete action: 7, continuous action: [0.]\n",
      "discrete state: [14  4  6], continuous state: [ 0.91508424 -0.4032627  -0.62496334]\n",
      "discrete action: 6, continuous action: [-0.28571429]\n",
      "discrete state: [14  4  6], continuous state: [ 0.8944517  -0.44716465 -0.97026753]\n",
      "discrete action: 1, continuous action: [-1.71428571]\n",
      "discrete state: [13  3  6], continuous state: [ 0.8568169 -0.5156208 -1.5627838]\n",
      "discrete action: 0, continuous action: [-2.]\n",
      "discrete state: [13  2  5], continuous state: [ 0.7935307 -0.6085302 -2.2494996]\n",
      "discrete action: 1, continuous action: [-1.71428571]\n",
      "discrete state: [12  2  4], continuous state: [ 0.6950125  -0.71899766 -2.96304   ]\n"
     ]
    },
    {
     "name": "stderr",
     "output_type": "stream",
     "text": [
      "c:\\Users\\marmey\\Documents\\reinforcement_learning_course_materials\\rl\\lib\\site-packages\\gymnasium\\utils\\passive_env_checker.py:249: DeprecationWarning: `np.bool8` is a deprecated alias for `np.bool_`.  (Deprecated NumPy 1.24)\n",
      "  if not isinstance(terminated, (bool, np.bool8)):\n"
     ]
    }
   ],
   "source": [
    "env = gym.make('Pendulum-v1', render_mode=\"human\")\n",
    "state, _ = env.reset()\n",
    "for _ in range(5):\n",
    "    disc_action = np.random.choice(range(9))\n",
    "    cont_action = continualize_action(disc_action)\n",
    "    print(\"discrete action: {}, continuous action: {}\".format(disc_action, cont_action))\n",
    "    \n",
    "    state, reward, terminated, _, _ = env.step(cont_action) # take a random action\n",
    "    disc_state = discretize_state(state)\n",
    "    print(\"discrete state: {}, continuous state: {}\".format(disc_state, state))\n",
    "    \n",
    "env.close()"
   ]
  },
  {
   "cell_type": "markdown",
   "metadata": {
    "nbgrader": {
     "grade": true,
     "grade_id": "cell-7050729ab9b288bc",
     "locked": false,
     "points": 0,
     "schema_version": 3,
     "solution": true,
     "task": false
    }
   },
   "source": [
    "## Discretization Diagrams"
   ]
  },
  {
   "cell_type": "code",
   "execution_count": 5,
   "metadata": {
    "nbgrader": {
     "grade": true,
     "grade_id": "cell-191ecd76d4787fb5",
     "locked": false,
     "points": 0,
     "schema_version": 3,
     "solution": true,
     "task": false
    }
   },
   "outputs": [
    {
     "data": {
      "image/png": "[encoded data removed]",
      "text/plain": [
       "<Figure size 800x550 with 1 Axes>"
      ]
     },
     "metadata": {},
     "output_type": "display_data"
    },
    {
     "data": {
      "image/png": "[encoded data removed]",
      "text/plain": [
       "<Figure size 800x550 with 1 Axes>"
      ]
     },
     "metadata": {},
     "output_type": "display_data"
    },
    {
     "data": {
      "image/png": "[encoded data removed]",
      "text/plain": [
       "<Figure size 800x550 with 1 Axes>"
      ]
     },
     "metadata": {},
     "output_type": "display_data"
    }
   ],
   "source": [
    "cos_theta = np.linspace(-1, 1, 10000)\n",
    "sin_theta = np.linspace(-1, 1, 10000)\n",
    "omega = np.linspace(-8, 8, 10000)\n",
    "T = np.arange(0, d_T, 1)\n",
    "\n",
    "disc_states = np.array([discretize_state(np.array([c, s, o])) for c, s, o in zip(cos_theta, sin_theta, omega)])\n",
    "cont_actions = [continualize_action(np.array(t)) for t in T]\n",
    "\n",
    "plt.plot(cos_theta, disc_states[:, 0])\n",
    "plt.xlabel(r\"cos$(\\theta)$, sin$(\\theta)$\")\n",
    "plt.ylabel(r\"cos${}_d$, sin${}_d$\")\n",
    "plt.grid('major')\n",
    "plt.show()\n",
    "plt.plot(omega, disc_states[:, 2])\n",
    "plt.xlabel(r\"$\\omega / \\frac{1}{\\mathrm{s}}$\")\n",
    "plt.ylabel(r\"$\\omega_d$\")\n",
    "plt.grid('major')\n",
    "plt.show()\n",
    "plt.plot(T, cont_actions, 'o-')\n",
    "plt.xlabel(r\"$T_d$\")\n",
    "plt.ylabel(r\"$T / \\mathrm{N} \\cdot \\mathrm{m}$\")\n",
    "plt.grid('major')\n",
    "plt.show()"
   ]
  },
  {
   "cell_type": "markdown",
   "metadata": {
    "nbgrader": {
     "grade": false,
     "grade_id": "cell-2575b2d2065717a7",
     "locked": true,
     "schema_version": 3,
     "solution": false,
     "task": false
    }
   },
   "source": [
    "## 2) n-Step Sarsa"
   ]
  },
  {
   "cell_type": "markdown",
   "metadata": {
    "nbgrader": {
     "grade": false,
     "grade_id": "cell-71c349849a7bdad7",
     "locked": true,
     "schema_version": 3,
     "solution": false,
     "task": false
    }
   },
   "source": [
    "Write an on-policy n-step Sarsa control algorithm for the inverted pendulum from scratch. This time, no code template is given. \n",
    "\n",
    "Use the following parameters: $\\alpha=0.1, \\gamma=0.9, \\varepsilon=0.1, n=10$ with 500 time steps in 2000 episodes.\n",
    "\n",
    "![](nStepSARSA_Algo.png)"
   ]
  },
  {
   "cell_type": "markdown",
   "metadata": {
    "nbgrader": {
     "grade": true,
     "grade_id": "cell-877e2e0ac6a7510e",
     "locked": false,
     "points": 0,
     "schema_version": 3,
     "solution": true,
     "task": false
    }
   },
   "source": [
    "## Solution 2)\n",
    "\n",
    "Execution might take long due to the \"render\" command, but this allows to observe the learning. Comment out to execute faster."
   ]
  },
  {
   "cell_type": "code",
   "execution_count": 6,
   "metadata": {
    "nbgrader": {
     "grade": false,
     "grade_id": "cell-37c9e8a6c5268048",
     "locked": false,
     "schema_version": 3,
     "solution": true,
     "task": false
    },
    "scrolled": true
   },
   "outputs": [
    {
     "data": {
      "application/json": {
       "ascii": false,
       "bar_format": null,
       "colour": null,
       "elapsed": 0.0023488998413085938,
       "initial": 0,
       "n": 0,
       "ncols": null,
       "nrows": null,
       "postfix": null,
       "prefix": "",
       "rate": null,
       "total": 2000,
       "unit": "it",
       "unit_divisor": 1000,
       "unit_scale": false
      },
      "application/vnd.jupyter.widget-view+json": {
       "model_id": "a8edfb4cddb340fe9fa7bdc9f7cb2fd9",
       "version_major": 2,
       "version_minor": 0
      },
      "text/plain": [
       "  0%|          | 0/2000 [00:00<?, ?it/s]"
      ]
     },
     "metadata": {},
     "output_type": "display_data"
    }
   ],
   "source": [
    "env = gym.make('Pendulum-v1') # , render_mode=\"human\"\n",
    "env = env.unwrapped\n",
    "\n",
    "alpha = 0.1  # learning rate\n",
    "gamma = 0.9  # discount factor\n",
    "epsilon = 0.1  # epsilon greedy parameter\n",
    "n = 10  # steps between updates\n",
    "\n",
    "nb_episodes = 2000  # number of episodes\n",
    "nb_steps = 500  # length of episodes\n",
    "\n",
    "action_values = np.zeros([d_theta, d_theta, d_omega, d_T])\n",
    "# int is necessary for indexing\n",
    "pi = np.zeros([d_theta, d_theta, d_omega], dtype=int)\n",
    "\n",
    "# we can use this to figure out how well the learning worked\n",
    "cumulative_reward_history = []\n",
    "\n",
    "for j in tqdm(range(nb_episodes), position=0, leave=True):\n",
    "\n",
    "    ### BEGIN SOLUTION\n",
    "\n",
    "    states = []\n",
    "    actions = []\n",
    "    rewards = []\n",
    "\n",
    "    state, _ = env.reset()  # initialize x_0\n",
    "    terminated = False\n",
    "    # terminal time (not actually needed for the pendulum, but we want to keep it general)\n",
    "    k_T = None\n",
    "\n",
    "    # will be multiplied with the last rewards\n",
    "    discount_array = gamma ** np.arange(n)\n",
    "\n",
    "    disc_state = tuple(discretize_state(state))  # use tuple indexing\n",
    "\n",
    "    disc_action = pi[disc_state]\n",
    "\n",
    "    states.append(disc_state)\n",
    "    actions.append(tuple([disc_action]))\n",
    "\n",
    "    for k in range(nb_steps + n - 2):\n",
    "\n",
    "        if not terminated:\n",
    "            cont_action = continualize_action(disc_action)\n",
    "            # env.render() # comment out for faster execution\n",
    "            state, reward, terminated, _, _ = env.step(cont_action)\n",
    "\n",
    "            disc_state = tuple(discretize_state(state))\n",
    "\n",
    "            states.append(disc_state)\n",
    "            rewards.append(reward)\n",
    "\n",
    "        if not terminated:  # was already checked before step but has to be checked again after step\n",
    "            if np.random.uniform(0, 1) < epsilon:\n",
    "                disc_action = np.random.choice(d_T)  # explorative action\n",
    "            else:\n",
    "                disc_action = pi[disc_state]  # exploitative action\n",
    "\n",
    "            actions.append(tuple([disc_action]))\n",
    "\n",
    "        elif k_T == None:  # if necessary, set terminal time\n",
    "            k_T = k\n",
    "\n",
    "        tau = k - n + 1\n",
    "\n",
    "        if tau >= 0:  # test if agent waited long enough to learn\n",
    "            if terminated:\n",
    "                # helps eliminate contemplation of rewards after termination\n",
    "                rewards.append(0)\n",
    "            last_rewards = rewards[-n:]\n",
    "            g = (discount_array * last_rewards).sum()\n",
    "            if not terminated:\n",
    "                g += gamma ** n * action_values[states[k+1] + actions[k+1]]\n",
    "\n",
    "            tau_state = states[tau]\n",
    "            action_values[tau_state + actions[tau]] += alpha * \\\n",
    "                (g - action_values[tau_state + actions[tau]])\n",
    "            pi[tau_state] = np.argmax(action_values[tau_state])\n",
    "\n",
    "        if tau + 1 == k_T:\n",
    "            break\n",
    "\n",
    "    cumulative_reward_history.append(np.sum(rewards))\n",
    "\n",
    "env.close()\n",
    "\n",
    "\n",
    "### END SOLUTION\n",
    "pi_learned = np.copy(pi)  # save pi in cache under different name for later\n"
   ]
  },
  {
   "cell_type": "code",
   "execution_count": 7,
   "metadata": {
    "nbgrader": {
     "grade": true,
     "grade_id": "cell-fc8a6d2fe73f71bf",
     "locked": false,
     "points": 0,
     "schema_version": 3,
     "solution": true,
     "task": false
    }
   },
   "outputs": [
    {
     "data": {
      "image/png": "[encoded data removed]",
      "text/plain": [
       "<Figure size 800x550 with 1 Axes>"
      ]
     },
     "metadata": {},
     "output_type": "display_data"
    },
    {
     "name": "stdout",
     "output_type": "stream",
     "text": [
      "(2000,)\n"
     ]
    }
   ],
   "source": [
    "plt.plot(cumulative_reward_history)\n",
    "plt.xlabel(\"episode\")\n",
    "plt.ylabel(r\"$\\sum R$\")\n",
    "plt.show()\n",
    "\n",
    "print(np.shape(cumulative_reward_history))"
   ]
  },
  {
   "cell_type": "markdown",
   "metadata": {
    "nbgrader": {
     "grade": false,
     "grade_id": "cell-ddebe8848a817b91",
     "locked": true,
     "schema_version": 3,
     "solution": false,
     "task": false
    }
   },
   "source": [
    "## Greedy Execution\n",
    "\n",
    "Test the learned policy by pure greedy execution."
   ]
  },
  {
   "cell_type": "code",
   "execution_count": 8,
   "metadata": {
    "nbgrader": {
     "grade": false,
     "grade_id": "cell-6ffa29bb63e9fc42",
     "locked": true,
     "schema_version": 3,
     "solution": false,
     "task": false
    }
   },
   "outputs": [],
   "source": [
    "env = gym.make('Pendulum-v1', render_mode=\"human\")\n",
    "env = env.unwrapped\n",
    "\n",
    "nb_steps = 200\n",
    "\n",
    "state, _ = env.reset() # initialize x_0\n",
    "disc_state = tuple(discretize_state(state)) # use tuple indexing\n",
    "disc_action = pi_learned[disc_state]\n",
    "\n",
    "for k in range(nb_steps):\n",
    "        \n",
    "    cont_action = continualize_action(disc_action)\n",
    "    env.render() # comment out for faster execution\n",
    "    state, reward, terminated, _, _ = env.step(cont_action)\n",
    "    disc_state = tuple(discretize_state(state))\n",
    "        \n",
    "    if terminated:\n",
    "        break\n",
    "        \n",
    "    disc_action = pi_learned[disc_state] # exploitative action\n",
    "    \n",
    "env.close()"
   ]
  },
  {
   "cell_type": "markdown",
   "metadata": {
    "nbgrader": {
     "grade": false,
     "grade_id": "cell-4731b891d975389f",
     "locked": true,
     "schema_version": 3,
     "solution": false,
     "task": false
    },
    "tags": []
   },
   "source": [
    "## 3) Recursive updates: TD($\\lambda$) "
   ]
  },
  {
   "cell_type": "markdown",
   "metadata": {
    "nbgrader": {
     "grade": false,
     "grade_id": "cell-24a77a257e20058a",
     "locked": true,
     "schema_version": 3,
     "solution": false,
     "task": false
    },
    "tags": []
   },
   "source": [
    "Both, $n$-step and $\\lambda$-return updates, are based on a forward view. That means we have to wait for future states and rewards before an update can be performed.\n",
    "We therefore introduce an eligibility traces, which follows the general idea that previous actions have significantly led to the current situation. Contrary to n-step learning, however, intuition tells us that more recent decisions had a more severe impact on the present situation than decisions that were made a long time ago. Thus, it may be helpful to integrate a forgetting factor $\\lambda$ which decreases the assumed influence of actions over time.\n",
    "\n",
    "Solution 2 is now to be extended by eligibility traces $z_k(x_k)$ within the action-value update. Test it for different values of $\\lambda$. How sensitive is the process to the choice of $\\lambda$?"
   ]
  },
  {
   "cell_type": "code",
   "execution_count": 9,
   "metadata": {
    "nbgrader": {
     "grade": false,
     "grade_id": "cell-8872e02f8c41136a",
     "locked": false,
     "schema_version": 3,
     "solution": true,
     "task": false
    },
    "tags": []
   },
   "outputs": [
    {
     "data": {
      "application/json": {
       "ascii": false,
       "bar_format": null,
       "colour": null,
       "elapsed": 0.002054452896118164,
       "initial": 0,
       "n": 0,
       "ncols": null,
       "nrows": null,
       "postfix": null,
       "prefix": "",
       "rate": null,
       "total": 5000,
       "unit": "it",
       "unit_divisor": 1000,
       "unit_scale": false
      },
      "application/vnd.jupyter.widget-view+json": {
       "model_id": "312fb0810cf74f8b876377c182d7dd75",
       "version_major": 2,
       "version_minor": 0
      },
      "text/plain": [
       "  0%|          | 0/5000 [00:00<?, ?it/s]"
      ]
     },
     "metadata": {},
     "output_type": "display_data"
    }
   ],
   "source": [
    "env = gym.make('Pendulum-v1') # , render_mode=\"human\"\n",
    "env = env.unwrapped\n",
    "\n",
    "alpha = 0.1  # learning rate\n",
    "gamma = 0.9  # discount factor\n",
    "epsilon = 0.1  # epsilon greedy parameter\n",
    "n = 1  # steps between updates\n",
    "lamb = 0.9  # forgetting factor\n",
    "\n",
    "nb_episodes = 5000  # number of episodes\n",
    "nb_steps = 500  # length of episodes\n",
    "\n",
    "action_values = np.zeros([d_theta, d_theta, d_omega, d_T])\n",
    "# init eligibility trace\n",
    "eligibility = np.zeros([d_theta, d_theta, d_omega])\n",
    "# int is necessary for indexing\n",
    "pi = np.zeros([d_theta, d_theta, d_omega], dtype=int)\n",
    "\n",
    "# we can use this to figure out how well the learning worked\n",
    "cumulative_reward_history = []\n",
    "\n",
    "for j in tqdm(range(nb_episodes), position=0, leave=True):\n",
    "\n",
    "    ### BEGIN SOLUTION\n",
    "\n",
    "    states = []\n",
    "    actions = []\n",
    "    rewards = []\n",
    "\n",
    "    state, _ = env.reset()  # initialize x_0\n",
    "    terminated = False\n",
    "    # terminal time (not actually needed for the pendulum, but we want to keep it general)\n",
    "    k_T = None\n",
    "\n",
    "    # will be multiplied with the last rewards\n",
    "    discount_array = gamma ** np.arange(n)\n",
    "\n",
    "    disc_state = tuple(discretize_state(state))  # use tuple indexing\n",
    "\n",
    "    # update eligibilities\n",
    "    eligibility *= lamb * gamma\n",
    "    eligibility[disc_state] += 1.0\n",
    "\n",
    "    disc_action = pi[disc_state]\n",
    "\n",
    "    states.append(disc_state)\n",
    "    actions.append(tuple([disc_action]))\n",
    "\n",
    "    for k in range(nb_steps + n - 2):\n",
    "\n",
    "        if not terminated:\n",
    "            cont_action = continualize_action(disc_action)\n",
    "            # env.render() # comment out for faster execution\n",
    "            state, reward, terminated, _, _ = env.step(cont_action)\n",
    "\n",
    "            disc_state = tuple(discretize_state(state))\n",
    "\n",
    "            # update eligibilities\n",
    "            eligibility *= lamb * gamma\n",
    "            eligibility[disc_state] += 1.0\n",
    "\n",
    "            states.append(disc_state)\n",
    "            rewards.append(reward)\n",
    "\n",
    "        if not terminated:  # was already checked before step but has to be checked again after step\n",
    "            if np.random.uniform(0, 1) < epsilon:\n",
    "                disc_action = np.random.choice(d_T)  # explorative action\n",
    "            else:\n",
    "                disc_action = pi[disc_state]  # exploitative action\n",
    "\n",
    "            actions.append(tuple([disc_action]))\n",
    "\n",
    "        elif k_T == None:  # if necessary, set terminal time\n",
    "            k_T = k\n",
    "\n",
    "        tau = k - n + 1\n",
    "\n",
    "        if tau >= 0:  # test if agent waited long enough to learn\n",
    "            if terminated:\n",
    "                # helps eliminate contemplation of rewards after termination\n",
    "                rewards.append(0)\n",
    "            last_rewards = rewards[-n:]\n",
    "            g = (discount_array * last_rewards).sum()\n",
    "            if not terminated:\n",
    "                g += gamma ** n * action_values[states[k+1] + actions[k+1]]\n",
    "\n",
    "            tau_state = states[tau]\n",
    "            action_values[tau_state + actions[tau]] += alpha * \\\n",
    "                (g - action_values[tau_state + actions[tau]]) * eligibility[tau_state]\n",
    "            pi[tau_state] = np.argmax(action_values[tau_state])\n",
    "\n",
    "        if tau + 1 == k_T:\n",
    "            break\n",
    "\n",
    "    cumulative_reward_history.append(np.sum(rewards))\n",
    "\n",
    "env.close()\n",
    "\n",
    "\n",
    "### END SOLUTION"
   ]
  },
  {
   "cell_type": "code",
   "execution_count": 10,
   "metadata": {
    "nbgrader": {
     "grade": false,
     "grade_id": "cell-05f58d9e3aabc348",
     "locked": true,
     "schema_version": 3,
     "solution": false,
     "task": false
    },
    "tags": []
   },
   "outputs": [
    {
     "data": {
      "image/png": "[encoded data removed]",
      "text/plain": [
       "<Figure size 800x550 with 1 Axes>"
      ]
     },
     "metadata": {},
     "output_type": "display_data"
    },
    {
     "name": "stdout",
     "output_type": "stream",
     "text": [
      "(5000,)\n"
     ]
    }
   ],
   "source": [
    "plt.plot(cumulative_reward_history)\n",
    "plt.xlabel(\"episode\")\n",
    "plt.ylabel(r\"$\\sum R$\")\n",
    "plt.show()\n",
    "\n",
    "print(np.shape(cumulative_reward_history))"
   ]
  },
  {
   "cell_type": "markdown",
   "metadata": {
    "nbgrader": {
     "grade": false,
     "grade_id": "cell-ea25c02b87a6e9b6",
     "locked": true,
     "schema_version": 3,
     "solution": false,
     "task": false
    },
    "tags": []
   },
   "source": [
    "## Greedy Execution\n",
    "\n",
    "Test the learned policy by pure greedy execution."
   ]
  },
  {
   "cell_type": "code",
   "execution_count": 11,
   "metadata": {
    "nbgrader": {
     "grade": false,
     "grade_id": "cell-7272b1acfbd4b325",
     "locked": true,
     "schema_version": 3,
     "solution": false,
     "task": false
    },
    "tags": []
   },
   "outputs": [],
   "source": [
    "env = gym.make('Pendulum-v1', render_mode=\"human\")\n",
    "env = env.unwrapped\n",
    "\n",
    "nb_steps = 200\n",
    "\n",
    "state, _ = env.reset() # initialize x_0\n",
    "disc_state = tuple(discretize_state(state)) # use tuple indexing\n",
    "disc_action = pi[disc_state]\n",
    "\n",
    "for k in range(nb_steps):\n",
    "        \n",
    "    cont_action = continualize_action(disc_action)\n",
    "    env.render() # comment out for faster execution\n",
    "    state, reward, terminated, _, _ = env.step(cont_action)\n",
    "    disc_state = tuple(discretize_state(state))\n",
    "        \n",
    "    if terminated:\n",
    "        break\n",
    "        \n",
    "    disc_action = pi[disc_state] # exploitative action\n",
    "    \n",
    "env.close()"
   ]
  },
  {
   "cell_type": "code",
   "execution_count": null,
   "metadata": {},
   "outputs": [],
   "source": []
  }
 ],
 "metadata": {
  "celltoolbar": "Create Assignment",
  "kernelspec": {
   "display_name": "rl",
   "language": "python",
   "name": "rl"
  },
  "language_info": {
   "codemirror_mode": {
    "name": "ipython",
    "version": 3
   },
   "file_extension": ".py",
   "mimetype": "text/x-python",
   "name": "python",
   "nbconvert_exporter": "python",
   "pygments_lexer": "ipython3",
   "version": "3.8.3"
  }
 },
 "nbformat": 4,
 "nbformat_minor": 4
}
