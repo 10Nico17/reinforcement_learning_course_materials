{
 "cells": [
  {
   "cell_type": "markdown",
   "metadata": {
    "nbgrader": {
     "grade": false,
     "grade_id": "cell-c833698b7dad927d",
     "locked": true,
     "schema_version": 3,
     "solution": false,
     "task": false
    }
   },
   "source": [
    "# Exercise 6: n-Step Methods"
   ]
  },
  {
   "attachments": {},
   "cell_type": "markdown",
   "metadata": {
    "nbgrader": {
     "grade": false,
     "grade_id": "cell-7cf627dacfec200a",
     "locked": true,
     "schema_version": 3,
     "solution": false,
     "task": false
    }
   },
   "source": [
    "In this exercise we will have a look at n-step methods. This class of reinforcement learning algorithms is an abstraction of the previously discussed Monte-Carlo and TD(0) methods and includes them as special cases. The environment we will be dealing with is a little more typical for control research: the inverted pendulum. \n",
    "\n",
    "![](https://miro.medium.com/max/1000/1*TNo3x9zDi1lVOH_3ncG7Aw.gif)\n",
    "\n",
    "To implement this environment, we will make use of the gymnasium library. Please install the gymnasium library within your preferred Python environment using:\n",
    "\n",
    "```pip install gymnasium```"
   ]
  },
  {
   "cell_type": "code",
   "execution_count": 1,
   "metadata": {
    "nbgrader": {
     "grade": false,
     "grade_id": "cell-68ba542456c544d2",
     "locked": true,
     "schema_version": 3,
     "solution": false,
     "task": false
    }
   },
   "outputs": [],
   "source": [
    "import numpy as np\n",
    "import gymnasium as gym\n",
    "from tqdm.notebook import tqdm\n",
    "import matplotlib.pyplot as plt\n",
    "plt.style.use('seaborn-v0_8')"
   ]
  },
  {
   "cell_type": "markdown",
   "metadata": {
    "nbgrader": {
     "grade": false,
     "grade_id": "cell-b9853bfaec1d8013",
     "locked": true,
     "schema_version": 3,
     "solution": false,
     "task": false
    }
   },
   "source": [
    "Check if the installation and import work by executing the following cell. A window with an animation of the pendulum should open, display some random actions, and close automatically."
   ]
  },
  {
   "cell_type": "code",
   "execution_count": 2,
   "metadata": {
    "nbgrader": {
     "grade": false,
     "grade_id": "cell-8e133fbe2615fd5b",
     "locked": true,
     "schema_version": 3,
     "solution": false,
     "task": false
    }
   },
   "outputs": [],
   "source": [
    "env = gym.make('Pendulum-v1', render_mode=\"human\")\n",
    "env = env.unwrapped # removes a built-in time limit of k_T = 200, we want to determine the time limit ourselves\n",
    "\n",
    "state, _ = env.reset()\n",
    "for _ in range(300):\n",
    "    # env.render()\n",
    "    state, reward, terminated, _, _ = env.step(env.action_space.sample()) # take a random action\n",
    "env.close()"
   ]
  },
  {
   "attachments": {},
   "cell_type": "markdown",
   "metadata": {
    "nbgrader": {
     "grade": false,
     "grade_id": "cell-f29246bdc3e421c0",
     "locked": true,
     "schema_version": 3,
     "solution": false,
     "task": false
    }
   },
   "source": [
    "The goal of this environment is to bring the pendulum into the upper neutral position, where the angle $\\theta = 0$ and the angular velocitiy $\\frac{\\text{d}}{\\text{d}t}\\theta=\\omega=0$. The reward function is already designed that way and does not need further specification. For further information about the environment you may refer to the code and documentation of Farama Foundation's `gymnasium`:\n",
    "\n",
    "[Documentation of the gymnasium pendulum](https://gymnasium.farama.org/environments/classic_control/pendulum/)\n",
    "\n",
    "[Pendulum environment in the gymnasium Github repository](https://github.com/Farama-Foundation/Gymnasium/blob/main/gymnasium/envs/classic_control/pendulum.py)"
   ]
  },
  {
   "cell_type": "markdown",
   "metadata": {
    "nbgrader": {
     "grade": false,
     "grade_id": "cell-8570b84cc28ffc4d",
     "locked": true,
     "schema_version": 3,
     "solution": false,
     "task": false
    }
   },
   "source": [
    "## 1) Discretization of Action and State Space"
   ]
  },
  {
   "attachments": {},
   "cell_type": "markdown",
   "metadata": {
    "nbgrader": {
     "grade": false,
     "grade_id": "cell-ee59383187979c94",
     "locked": true,
     "schema_version": 3,
     "solution": false,
     "task": false
    }
   },
   "source": [
    "Unlike the racetrack environment, the inverted pendulum comes with a continuous action and state space. Although it is possible to handle systems with these characteristics, we did not yet learn how to deal with them. For now, we only know how to implement agents for discrete action and state spaces. Accordingly, we will also try to represent the inverted pendulum within a discrete state / action space. For this, a discretization is necessary.\n",
    "\n",
    "The pendulum has three state variables relating to the momentary angular position $\\theta$:\n",
    "\\begin{align*}\n",
    "    x=\\begin{bmatrix}\n",
    "    \\text{cos}(\\theta)\\\\\n",
    "    \\text{sin}(\\theta)\\\\\n",
    "    \\frac{\\text{d}}{\\text{d}t}\\theta\n",
    "    \\end{bmatrix}\n",
    "    \\in\n",
    "    \\begin{bmatrix}\n",
    "    [-1, 1]\\\\\n",
    "    [-1, 1]\\\\\n",
    "    [-8 \\, \\frac{1}{\\text{s}}, 8 \\, \\frac{1}{\\text{s}}]\n",
    "    \\end{bmatrix},\n",
    "\\end{align*}\n",
    "\n",
    "and one input variable which relates to the torque applied at the axis of rotation:\n",
    "\n",
    "$u = T \\in [-2 \\, \\text{N}\\cdot\\text{m}, 2 \\, \\text{N}\\cdot\\text{m}]$\n",
    "\n",
    "After the discretization, we want the system to be defined on sets of non-negative natural numbers:\n",
    "\n",
    "\\begin{align*}\n",
    "    x_d =\n",
    "    \\text{discretize_state}(x)\n",
    "    \\in\n",
    "    \\begin{bmatrix}\n",
    "    \\{0,1,2,...,d_{\\theta}-1\\}\\\\\n",
    "    \\{0,1,2,...,d_{\\theta}-1\\}\\\\\n",
    "    \\{0,1,2,...,d_{\\omega}-1\\}\n",
    "    \\end{bmatrix},\n",
    "\\end{align*}\n",
    "\n",
    "$\n",
    "u_d =\n",
    "\\text{discretize_action}(u)\n",
    "\\in\n",
    "\\{0,1,2,...,d_{T}-1\\}.\n",
    "$\n",
    "\n",
    "Since action is selected within the discrete action space, we need to transform it accordingly:\n",
    "\n",
    "$\n",
    "u=\n",
    "\\text{continualize_action}(u_d):\n",
    "\\{0,1,2,...,d_{T}-1\\} \\rightarrow [-2 \\, \\text{N}\\cdot\\text{m}, 2 \\, \\text{N}\\cdot\\text{m}]\n",
    ".\n",
    "$"
   ]
  },
  {
   "attachments": {},
   "cell_type": "markdown",
   "metadata": {
    "nbgrader": {
     "grade": false,
     "grade_id": "cell-28b6b992373b4a65",
     "locked": true,
     "schema_version": 3,
     "solution": false,
     "task": false
    }
   },
   "source": [
    "Write the functions `discretize_state` and `continualize_action`, such that a discrete RL agent can be applied. (Please note that all I/O of `gymnasium` consists of numpy arrays.) Write the functions in such a way that the number of discretization intervals $d_\\theta, d_\\omega, d_T$ are parameters that can be changed for different tests. The discretization intervals should be uniformly distributed on their respective state space.\n",
    "\n",
    "A parametrization of $d_\\theta = d_\\omega = d_T = 15$ can be used to yield satisfactory results in this exercise.\n",
    "However, does it make a difference if the number of discretization intervals is odd or even? If yes, what should be preferred for the given environment? "
   ]
  },
  {
   "cell_type": "markdown",
   "metadata": {
    "nbgrader": {
     "grade": false,
     "grade_id": "cell-cfd4a4f7a22ce35c",
     "locked": true,
     "schema_version": 3,
     "solution": false,
     "task": false
    }
   },
   "source": [
    "## Solution 1)"
   ]
  },
  {
   "attachments": {},
   "cell_type": "markdown",
   "metadata": {
    "nbgrader": {
     "grade": true,
     "grade_id": "cell-cf67ba4807c7ce8c",
     "locked": false,
     "points": 0,
     "schema_version": 3,
     "solution": true,
     "task": false
    }
   },
   "source": [
    "Code given below.\n",
    "\n",
    "The number of discretization intervals can in fact make a difference in this case. The inverted pendulum can be considered as solved when brought into the upper neutral position $\\theta=0, \\omega=0$. The state as given by `gymnasium` would therefore be:\n",
    "\n",
    "\\begin{align*}\n",
    "x_\\text{neutral}=\n",
    "\\begin{bmatrix}\n",
    "\\text{cos}(0)\\\\\n",
    "\\text{sin}(0)\\\\\n",
    "0\n",
    "\\end{bmatrix}\n",
    "=\n",
    "\\begin{bmatrix}\n",
    "1\\\\\n",
    "0\\\\\n",
    "0\n",
    "\\end{bmatrix},\n",
    "u_\\text{neutral}=0\n",
    "\\end{align*}\n",
    "\n",
    "Consequently, the discretization / continualization should allow for precise transformation of this state, which is given when assuming an odd number of discretization intervals. If one uses an even number of intervals, one interval boundary will be located exactly at zero, potentially leading to rapid bouncing around the neutral position."
   ]
  },
  {
   "cell_type": "code",
   "execution_count": 3,
   "metadata": {
    "nbgrader": {
     "grade": false,
     "grade_id": "cell-af38d4d166803785",
     "locked": false,
     "schema_version": 3,
     "solution": true,
     "task": false
    }
   },
   "outputs": [],
   "source": [
    "d_T = 15\n",
    "d_theta = 15\n",
    "d_omega = 15\n",
    "\n",
    "\n",
    "def discretize_state(states):\n",
    "\n",
    "    # BEGIN SOLUTION\n",
    "\n",
    "    limits = [1, 1, 8]\n",
    "    nb_disc_intervals = [d_theta, d_theta, d_omega]\n",
    "\n",
    "    q_intervals = [np.linspace(-l, l, i+1)\n",
    "                   for l, i in zip(limits, nb_disc_intervals)]\n",
    "    # Clipping is necessary due to linspacing with an additional interval, which in turn is necessary\n",
    "    #  for how numpy.digitize works (i.e., it floors the continuous value)\n",
    "    return np.array([np.digitize(s, q).clip(max=q.size - 1) - 1 for s, q in zip(states, q_intervals)],\n",
    "                    dtype=int)  # int is necessary for indexing\n",
    "    # END SOLUTION\n",
    "\n",
    "\n",
    "def continualize_action(disc_action):\n",
    "\n",
    "    # BEGIN SOLUTION\n",
    "\n",
    "    limit = 2\n",
    "    interval_length = 2 / (d_T-1)\n",
    "    norm_action = disc_action * interval_length\n",
    "    cont_action = (norm_action - 1) * limit\n",
    "    return np.array(cont_action).flatten()\n",
    "\n",
    "    # END SOLUTION\n"
   ]
  },
  {
   "cell_type": "markdown",
   "metadata": {
    "nbgrader": {
     "grade": false,
     "grade_id": "cell-54296429c6a25f98",
     "locked": true,
     "schema_version": 3,
     "solution": false,
     "task": false
    }
   },
   "source": [
    "Use the following cell for debugging:"
   ]
  },
  {
   "cell_type": "code",
   "execution_count": 4,
   "metadata": {
    "nbgrader": {
     "grade": false,
     "grade_id": "cell-755b0b9277910870",
     "locked": true,
     "schema_version": 3,
     "solution": false,
     "task": false
    }
   },
   "outputs": [
    {
     "name": "stdout",
     "output_type": "stream",
     "text": [
      "discrete action: 3, continuous action: [-1.14285714]\n",
      "discrete state: [ 1 12  7], continuous state: [-0.7366317  0.6762941  0.2608454]\n",
      "discrete action: 6, continuous action: [-0.28571429]\n",
      "discrete state: [ 1 12  8], continuous state: [-0.7606648  0.6491448  0.7252088]\n",
      "discrete action: 6, continuous action: [-0.28571429]\n",
      "discrete state: [ 1 12  8], continuous state: [-0.7972931   0.60359234  1.1692103 ]\n",
      "discrete action: 4, continuous action: [-0.85714286]\n",
      "discrete state: [ 1 11  8], continuous state: [-0.840098    0.54243463  1.4933331 ]\n",
      "discrete action: 2, continuous action: [-1.42857143]\n",
      "discrete state: [ 0 11  9], continuous state: [-0.88278484  0.46977755  1.6858734 ]\n"
     ]
    }
   ],
   "source": [
    "env = gym.make('Pendulum-v1', render_mode=\"human\")\n",
    "state, _ = env.reset()\n",
    "for _ in range(5):\n",
    "    disc_action = np.random.choice(range(9))\n",
    "    cont_action = continualize_action(disc_action)\n",
    "    print(\"discrete action: {}, continuous action: {}\".format(disc_action, cont_action))\n",
    "    \n",
    "    state, reward, terminated, _, _ = env.step(cont_action) # take a random action\n",
    "    disc_state = discretize_state(state)\n",
    "    print(\"discrete state: {}, continuous state: {}\".format(disc_state, state))\n",
    "    \n",
    "env.close()"
   ]
  },
  {
   "cell_type": "markdown",
   "metadata": {
    "nbgrader": {
     "grade": true,
     "grade_id": "cell-7050729ab9b288bc",
     "locked": false,
     "points": 0,
     "schema_version": 3,
     "solution": true,
     "task": false
    }
   },
   "source": [
    "## Discretization Diagrams"
   ]
  },
  {
   "cell_type": "code",
   "execution_count": 5,
   "metadata": {
    "nbgrader": {
     "grade": true,
     "grade_id": "cell-191ecd76d4787fb5",
     "locked": false,
     "points": 0,
     "schema_version": 3,
     "solution": true,
     "task": false
    },
    "scrolled": false
   },
   "outputs": [
    {
     "data": {
      "image/png": "[encoded data removed]",
      "text/plain": [
       "<Figure size 800x550 with 1 Axes>"
      ]
     },
     "metadata": {},
     "output_type": "display_data"
    },
    {
     "data": {
      "image/png": "[encoded data removed]",
      "text/plain": [
       "<Figure size 800x550 with 1 Axes>"
      ]
     },
     "metadata": {},
     "output_type": "display_data"
    },
    {
     "data": {
      "image/png": "[encoded data removed]",
      "text/plain": [
       "<Figure size 800x550 with 1 Axes>"
      ]
     },
     "metadata": {},
     "output_type": "display_data"
    }
   ],
   "source": [
    "cos_theta = np.linspace(-1, 1, 10000)\n",
    "sin_theta = np.linspace(-1, 1, 10000)\n",
    "omega = np.linspace(-8, 8, 10000)\n",
    "T = np.arange(0, d_T, 1)\n",
    "\n",
    "disc_states = np.array([discretize_state(np.array([c, s, o])) for c, s, o in zip(cos_theta, sin_theta, omega)])\n",
    "cont_actions = [continualize_action(np.array(t)) for t in T]\n",
    "\n",
    "plt.plot(cos_theta, disc_states[:, 0])\n",
    "plt.xlabel(r\"cos$(\\theta)$, sin$(\\theta)$\")\n",
    "plt.ylabel(r\"cos${}_d$, sin${}_d$\")\n",
    "plt.grid('major')\n",
    "plt.show()\n",
    "plt.plot(omega, disc_states[:, 2])\n",
    "plt.xlabel(r\"$\\omega / \\frac{1}{\\mathrm{s}}$\")\n",
    "plt.ylabel(r\"$\\omega_d$\")\n",
    "plt.grid('major')\n",
    "plt.show()\n",
    "plt.plot(T, cont_actions, 'o-')\n",
    "plt.xlabel(r\"$T_d$\")\n",
    "plt.ylabel(r\"$T / \\mathrm{N} \\cdot \\mathrm{m}$\")\n",
    "plt.grid('major')\n",
    "plt.show()"
   ]
  },
  {
   "cell_type": "markdown",
   "metadata": {
    "nbgrader": {
     "grade": false,
     "grade_id": "cell-2575b2d2065717a7",
     "locked": true,
     "schema_version": 3,
     "solution": false,
     "task": false
    }
   },
   "source": [
    "## 2) n-Step Sarsa"
   ]
  },
  {
   "cell_type": "markdown",
   "metadata": {
    "nbgrader": {
     "grade": false,
     "grade_id": "cell-71c349849a7bdad7",
     "locked": true,
     "schema_version": 3,
     "solution": false,
     "task": false
    }
   },
   "source": [
    "Write an on-policy n-step Sarsa control algorithm for the inverted pendulum from scratch. This time, no code template is given. \n",
    "\n",
    "Use the following parameters: $\\alpha=0.1, \\gamma=0.9, \\varepsilon=0.1, n=10$ with 500 time steps in 2000 episodes.\n",
    "\n",
    "![](nStepSARSA_Algo.png)"
   ]
  },
  {
   "cell_type": "markdown",
   "metadata": {
    "nbgrader": {
     "grade": true,
     "grade_id": "cell-877e2e0ac6a7510e",
     "locked": false,
     "points": 0,
     "schema_version": 3,
     "solution": true,
     "task": false
    }
   },
   "source": [
    "## Solution 2)\n",
    "\n",
    "Execution might take long due to the \"render\" command, but this allows to observe the learning. Comment out to execute faster."
   ]
  },
  {
   "cell_type": "code",
   "execution_count": 7,
   "metadata": {
    "nbgrader": {
     "grade": false,
     "grade_id": "cell-37c9e8a6c5268048",
     "locked": false,
     "schema_version": 3,
     "solution": true,
     "task": false
    },
    "scrolled": true
   },
   "outputs": [
    {
     "data": {
      "application/vnd.jupyter.widget-view+json": {
       "model_id": "de8d76e144ce4e2a84347f4653a64dd4",
       "version_major": 2,
       "version_minor": 0
      },
      "text/plain": [
       "  0%|          | 0/2000 [00:00<?, ?it/s]"
      ]
     },
     "metadata": {},
     "output_type": "display_data"
    }
   ],
   "source": [
    "env = gym.make('Pendulum-v1') # , render_mode=\"human\"\n",
    "env = env.unwrapped\n",
    "\n",
    "alpha = 0.1  # learning rate\n",
    "gamma = 0.9  # discount factor\n",
    "epsilon = 0.1  # epsilon greedy parameter\n",
    "n = 10  # steps between updates\n",
    "\n",
    "nb_episodes = 2000  # number of episodes\n",
    "nb_steps = 500  # length of episodes\n",
    "\n",
    "action_values = np.zeros([d_theta, d_theta, d_omega, d_T])\n",
    "# int is necessary for indexing\n",
    "pi = np.zeros([d_theta, d_theta, d_omega], dtype=int)\n",
    "\n",
    "# we can use this to figure out how well the learning worked\n",
    "cumulative_reward_history = []\n",
    "\n",
    "for j in tqdm(range(nb_episodes), position=0, leave=True):\n",
    "\n",
    "    # BEGIN SOLUTION\n",
    "\n",
    "    states = []\n",
    "    actions = []\n",
    "    rewards = []\n",
    "\n",
    "    state, _ = env.reset()  # initialize x_0\n",
    "    terminated = False\n",
    "    # terminal time (not actually needed for the pendulum, but we want to keep it general)\n",
    "    k_T = None\n",
    "\n",
    "    # will be multiplied with the last rewards\n",
    "    discount_array = gamma ** np.arange(n)\n",
    "\n",
    "    disc_state = tuple(discretize_state(state))  # use tuple indexing\n",
    "\n",
    "    disc_action = pi[disc_state]\n",
    "\n",
    "    states.append(disc_state)\n",
    "    actions.append(tuple([disc_action]))\n",
    "\n",
    "    for k in range(nb_steps + n - 2):\n",
    "\n",
    "        if not terminated:\n",
    "            cont_action = continualize_action(disc_action)\n",
    "            # env.render() # comment out for faster execution\n",
    "            state, reward, terminated, _, _ = env.step(cont_action)\n",
    "\n",
    "            disc_state = tuple(discretize_state(state))\n",
    "\n",
    "            states.append(disc_state)\n",
    "            rewards.append(reward)\n",
    "\n",
    "        if not terminated:  # was already checked before step but has to be checked again after step\n",
    "            if np.random.uniform(0, 1) < epsilon:\n",
    "                disc_action = np.random.choice(d_T)  # explorative action\n",
    "            else:\n",
    "                disc_action = pi[disc_state]  # exploitative action\n",
    "\n",
    "            actions.append(tuple([disc_action]))\n",
    "\n",
    "        elif k_T == None:  # if necessary, set terminal time\n",
    "            k_T = k\n",
    "\n",
    "        tau = k - n + 1\n",
    "\n",
    "        if tau >= 0:  # test if agent waited long enough to learn\n",
    "            if terminated:\n",
    "                # helps eliminate contemplation of rewards after termination\n",
    "                rewards.append(0)\n",
    "            last_rewards = rewards[-n:]\n",
    "            g = (discount_array * last_rewards).sum()\n",
    "            if not terminated:\n",
    "                g += gamma ** n * action_values[states[k+1] + actions[k+1]]\n",
    "\n",
    "            tau_state = states[tau]\n",
    "            action_values[tau_state + actions[tau]] += alpha * \\\n",
    "                (g - action_values[tau_state + actions[tau]])\n",
    "            pi[tau_state] = np.argmax(action_values[tau_state])\n",
    "\n",
    "        if tau + 1 == k_T:\n",
    "            break\n",
    "\n",
    "    cumulative_reward_history.append(np.sum(rewards))\n",
    "\n",
    "env.close()\n",
    "\n",
    "\n",
    "# END SOLUTION\n",
    "pi_learned = np.copy(pi)  # save pi in cache under different name for later\n"
   ]
  },
  {
   "cell_type": "code",
   "execution_count": 8,
   "metadata": {
    "nbgrader": {
     "grade": true,
     "grade_id": "cell-fc8a6d2fe73f71bf",
     "locked": false,
     "points": 0,
     "schema_version": 3,
     "solution": true,
     "task": false
    }
   },
   "outputs": [
    {
     "data": {
      "image/png": "[encoded data removed]",
      "text/plain": [
       "<Figure size 800x550 with 1 Axes>"
      ]
     },
     "metadata": {},
     "output_type": "display_data"
    },
    {
     "name": "stdout",
     "output_type": "stream",
     "text": [
      "(2000,)\n"
     ]
    }
   ],
   "source": [
    "plt.plot(cumulative_reward_history)\n",
    "plt.xlabel(\"episode\")\n",
    "plt.ylabel(r\"$\\sum R$\")\n",
    "plt.show()\n",
    "\n",
    "print(np.shape(cumulative_reward_history))"
   ]
  },
  {
   "cell_type": "markdown",
   "metadata": {
    "nbgrader": {
     "grade": false,
     "grade_id": "cell-ddebe8848a817b91",
     "locked": true,
     "schema_version": 3,
     "solution": false,
     "task": false
    }
   },
   "source": [
    "## Greedy Execution\n",
    "\n",
    "Test the learned policy by pure greedy execution."
   ]
  },
  {
   "cell_type": "code",
   "execution_count": 9,
   "metadata": {
    "nbgrader": {
     "grade": false,
     "grade_id": "cell-6ffa29bb63e9fc42",
     "locked": true,
     "schema_version": 3,
     "solution": false,
     "task": false
    }
   },
   "outputs": [],
   "source": [
    "env = gym.make('Pendulum-v1', render_mode=\"human\")\n",
    "env = env.unwrapped\n",
    "\n",
    "nb_steps = 200\n",
    "\n",
    "state, _ = env.reset() # initialize x_0\n",
    "disc_state = tuple(discretize_state(state)) # use tuple indexing\n",
    "disc_action = pi_learned[disc_state]\n",
    "\n",
    "for k in range(nb_steps):\n",
    "        \n",
    "    cont_action = continualize_action(disc_action)\n",
    "    env.render() # comment out for faster execution\n",
    "    state, reward, terminated, _, _ = env.step(cont_action)\n",
    "    disc_state = tuple(discretize_state(state))\n",
    "        \n",
    "    if terminated:\n",
    "        break\n",
    "        \n",
    "    disc_action = pi_learned[disc_state] # exploitative action\n",
    "    \n",
    "env.close()"
   ]
  },
  {
   "cell_type": "markdown",
   "metadata": {
    "nbgrader": {
     "grade": false,
     "grade_id": "cell-2cb21bf8569c915a",
     "locked": true,
     "schema_version": 3,
     "solution": false,
     "task": false
    }
   },
   "source": [
    "## 3) Tree Backups"
   ]
  },
  {
   "cell_type": "markdown",
   "metadata": {
    "nbgrader": {
     "grade": false,
     "grade_id": "cell-ef9ba6fd56f7dc65",
     "locked": true,
     "schema_version": 3,
     "solution": false,
     "task": false
    }
   },
   "source": [
    "Although n-step Sarsa is a very powerful algorithm, it still needs to be trained on-policy. This is not a problem in simulations, but it might be quite dangerous if used on physical systems. Therefore, we also need an off-policy solution. \n",
    "\n",
    "Use the policy learned in task (2) as a behavior policy when implementing n-step Sarsa with tree backups and compare their learning behavior. Be aware that execution may be time consuming.\n",
    "\n",
    "Use the following parameters: $\\alpha=0.1, \\gamma=0.9, \\varepsilon=0.1, n=5$ with 500 time steps in 10 000 episodes (might take some time).\n",
    "\n",
    "What can we say about the training process? What can we say about the resulting learned policy? Did the agent learn a good policy? Why? Why not?\n",
    "\n",
    "![](nStepTreeBackup_Algo.png)"
   ]
  },
  {
   "cell_type": "code",
   "execution_count": 10,
   "metadata": {
    "nbgrader": {
     "grade": false,
     "grade_id": "cell-eb4adfe7b82e148f",
     "locked": false,
     "schema_version": 3,
     "solution": true,
     "task": false
    }
   },
   "outputs": [
    {
     "data": {
      "application/vnd.jupyter.widget-view+json": {
       "model_id": "bbae4f9e24ec40cbbe8ddcb3289d4dfc",
       "version_major": 2,
       "version_minor": 0
      },
      "text/plain": [
       "  0%|          | 0/10000 [00:00<?, ?it/s]"
      ]
     },
     "metadata": {},
     "output_type": "display_data"
    }
   ],
   "source": [
    "env = gym.make('Pendulum-v1') # , render_mode=\"human\"\n",
    "env = env.unwrapped\n",
    "\n",
    "alpha = 0.1 # learning rate\n",
    "gamma = 0.9 # discount factor\n",
    "epsilon = 0.1 # 0.1 # epsilon greedy parameter\n",
    "n = 5 # steps between updates\n",
    "\n",
    "nb_episodes = 10000 # number of episodes\n",
    "nb_steps = 500 # length of episodes\n",
    "\n",
    "action_values = -999 * np.ones([d_theta, d_theta, d_omega, d_T])\n",
    "behavior_policy = np.copy(pi_learned) # pi_learned should be the learned policy from (2), make sure it is active\n",
    "pi = np.zeros([d_theta, d_theta, d_omega], dtype=int)\n",
    "\n",
    "cumulative_reward_history = [] # we can use this to figure out how well the learning worked\n",
    "\n",
    "for j in tqdm(range(nb_episodes), position=0, leave=True):\n",
    "    \n",
    "    ### BEGIN SOLUTION\n",
    "    \n",
    "    states = []\n",
    "    actions = []\n",
    "    rewards = []\n",
    "   \n",
    "    state, _ = env.reset() # initialize x_0\n",
    "    terminated = False\n",
    "    k_T = None # terminal time (not actually needed for the pendulum, but we want to keep it general)\n",
    "    \n",
    "    disc_state = tuple(discretize_state(state)) # use tuple indexing\n",
    "    disc_action = behavior_policy[disc_state]\n",
    "    \n",
    "    states.append(disc_state)\n",
    "    actions.append(tuple([disc_action]))\n",
    "\n",
    "    for k in range(nb_steps + n - 2):\n",
    "        \n",
    "        if not terminated:\n",
    "            cont_action = continualize_action(disc_action)\n",
    "            # env.render() # comment out for faster execution\n",
    "            state, reward, terminated, _, _ = env.step(cont_action)\n",
    "            \n",
    "            disc_state = tuple(discretize_state(state))\n",
    "\n",
    "            states.append(disc_state)\n",
    "            rewards.append(reward)\n",
    "        \n",
    "        if not terminated: # was already checked before step but has to be checked again after step\n",
    "            if np.random.uniform(0, 1) < epsilon:\n",
    "                disc_action = np.random.choice(d_T) # explorative action\n",
    "            else:\n",
    "                disc_action = behavior_policy[disc_state] # exploitative action\n",
    "                \n",
    "            actions.append(tuple([disc_action]))\n",
    "            \n",
    "        elif k_T == None: # if necessary, set terminal time\n",
    "            k_T = k + 1\n",
    "            \n",
    "        tau = k - n + 1 \n",
    "        \n",
    "        if tau >= 0: # test if agent waited long enough to learn\n",
    "            \n",
    "            g = rewards[-1]\n",
    "            if not terminated:\n",
    "                g += gamma * (pi[states[k+1]] * action_values[states[k+1]]).sum() \n",
    "            \n",
    "            if not k_T == None:\n",
    "                i_idx_start = np.min([k, k_T - 1])\n",
    "            else:\n",
    "                i_idx_start = k\n",
    "                               \n",
    "            i_idx_range = np.arange(i_idx_start, tau, -1) # second entry is exclusive, go backwards in time\n",
    "            \n",
    "            for i in i_idx_range:\n",
    "                # expected action_value of actions that were NOT applied + expected return of action that was applied.\n",
    "                # The expected action would need to be calculated here, but since the trained policy pi is greedy\n",
    "                #  wrt action_values, we can simply get the maximum action_value to obtain the expected action.\n",
    "                #  The probability for the other actions, that are not taken by pi, have a 0% chance under pi.\n",
    "                if actions[i] == pi[states[i]]:\n",
    "                    # Here, the expected return of applied action has 100% chance of happening.\n",
    "                    # Behavior policy and learned policy pi overlap.\n",
    "                    sum_pi_qg = g\n",
    "                else:\n",
    "                    # Here, the learned policy would decide differently from the behavior policy\n",
    "                    sum_pi_qg = np.max(action_values[states[i]])\n",
    "                # 1st entry in states belongs to 0th entry in rewards, \n",
    "                # hence states[i] belongs to rewards[i-1]\n",
    "                g = rewards[i-1] + gamma * sum_pi_qg\n",
    "                \n",
    "            action_values[states[tau] + actions[tau]] += alpha * (g - action_values[states[tau] + actions[tau]])\n",
    "            pi[states[tau]] = np.argmax(action_values[states[tau]])\n",
    "            \n",
    "        if tau + 1 == k_T:\n",
    "            break\n",
    "            \n",
    "    cumulative_reward_history.append(np.sum(rewards))\n",
    "            \n",
    "env.close()\n",
    "\n",
    "### END SOLUTION"
   ]
  },
  {
   "cell_type": "code",
   "execution_count": 11,
   "metadata": {
    "nbgrader": {
     "grade": false,
     "grade_id": "cell-0eb6391db0077e71",
     "locked": false,
     "schema_version": 3,
     "solution": true,
     "task": false
    }
   },
   "outputs": [
    {
     "data": {
      "image/png": "[encoded data removed]",
      "text/plain": [
       "<Figure size 800x550 with 1 Axes>"
      ]
     },
     "metadata": {},
     "output_type": "display_data"
    },
    {
     "name": "stdout",
     "output_type": "stream",
     "text": [
      "(10000,)\n"
     ]
    }
   ],
   "source": [
    "plt.plot(cumulative_reward_history)\n",
    "plt.xlabel(\"episode\")\n",
    "plt.ylabel(r\"$\\sum R$\")\n",
    "plt.show()\n",
    "\n",
    "print(np.shape(cumulative_reward_history))"
   ]
  },
  {
   "cell_type": "markdown",
   "metadata": {
    "nbgrader": {
     "grade": false,
     "grade_id": "cell-c1d56f58872a3dba",
     "locked": true,
     "schema_version": 3,
     "solution": false,
     "task": false
    }
   },
   "source": [
    "## Greedy Execution\n",
    "\n",
    "Test the learned policy by pure greedy execution."
   ]
  },
  {
   "cell_type": "code",
   "execution_count": 13,
   "metadata": {
    "nbgrader": {
     "grade": false,
     "grade_id": "cell-563faef7628f6cf4",
     "locked": true,
     "schema_version": 3,
     "solution": false,
     "task": false
    }
   },
   "outputs": [],
   "source": [
    "env = gym.make('Pendulum-v1', render_mode=\"human\")\n",
    "env = env.unwrapped\n",
    "\n",
    "nb_steps = 200\n",
    "\n",
    "state, _ = env.reset() # initialize x_0\n",
    "disc_state = tuple(discretize_state(state)) # use tuple indexing\n",
    "disc_action = pi[disc_state]\n",
    "\n",
    "for k in range(nb_steps):\n",
    "        \n",
    "    cont_action = continualize_action(disc_action)\n",
    "    env.render() # comment out for faster execution\n",
    "    state, reward, terminated, _, _ = env.step(cont_action)\n",
    "    disc_state = tuple(discretize_state(state))\n",
    "        \n",
    "    if terminated:\n",
    "        break\n",
    "        \n",
    "    disc_action = pi[disc_state] # exploitative action\n",
    "    \n",
    "env.close()"
   ]
  },
  {
   "cell_type": "markdown",
   "metadata": {
    "nbgrader": {
     "grade": false,
     "grade_id": "cell-1efb4bbc72ef2f47",
     "locked": true,
     "schema_version": 3,
     "solution": false,
     "task": false
    }
   },
   "source": [
    "## 4) Comprehensive: n-Step $Q(\\sigma)$ Hyperparameter Optimization"
   ]
  },
  {
   "cell_type": "markdown",
   "metadata": {
    "nbgrader": {
     "grade": false,
     "grade_id": "cell-c99f9c778095b841",
     "locked": true,
     "schema_version": 3,
     "solution": false,
     "task": false
    }
   },
   "source": [
    "The $Q(\\sigma)$ algorithm allows for even more flexibility. Like in n-step Sarsa, we can again choose the number $n$ of past steps to consider for an update. Moreover, we can choose the parameter $\\sigma$ to change the weighting between sampled and expected state transitions. Accordingly, a properly tuned $Q(\\sigma)$ agent is very flexible and thus powerful.\n",
    "\n",
    "Unfortunately, with great power comes great responsibility. Namely, the responsibility to make a good decision on the parameters. What is a \"properly tuned\" agent? This is a very basic question of RL and now we want to investigate it by the means of a (small) hyperparameter optimization that utilizes simple grid search.\n",
    "\n",
    "Write an off-policy epsilon-greedy $Q(\\sigma)$ ($\\pi$ greedy and $b$ $\\varepsilon$-greedy) algorithm to control the inverted pendulum. The algorithm should be formulated as a function, such that we can pass $n$ and $\\sigma$ to it and get a policy and a reward history returned. For simplicity, we define $\\sigma=\\text{const.}$ during one training process.\n",
    "\n",
    "Carry out the training process for $n \\in \\{0,2,4,...,10\\}$ and for $\\sigma \\in \\{0,0.2,0.4,...,1\\}$. Evaluate the training process by determining the best reward history (how can we define what is a good reward history?).\n",
    "\n",
    "Parameters: $\\alpha=0.1, \\gamma=0.9, \\varepsilon=0.1$ with 500 time steps in 2 000 episodes"
   ]
  },
  {
   "cell_type": "markdown",
   "metadata": {
    "nbgrader": {
     "grade": false,
     "grade_id": "cell-079d114d4b940455",
     "locked": true,
     "schema_version": 3,
     "solution": false,
     "task": false
    }
   },
   "source": [
    "![](QSigma_1.png)\n",
    "![](QSigma_2.png)"
   ]
  },
  {
   "cell_type": "markdown",
   "metadata": {
    "nbgrader": {
     "grade": false,
     "grade_id": "cell-a291181972c262fd",
     "locked": true,
     "schema_version": 3,
     "solution": false,
     "task": false
    }
   },
   "source": [
    "## Solution 4)"
   ]
  },
  {
   "cell_type": "markdown",
   "metadata": {
    "nbgrader": {
     "grade": false,
     "grade_id": "cell-66f45e92e43daa8e",
     "locked": true,
     "schema_version": 3,
     "solution": false,
     "task": false
    }
   },
   "source": [
    "This task will take some time both, in coding and in running the optimization."
   ]
  },
  {
   "cell_type": "code",
   "execution_count": 14,
   "metadata": {
    "nbgrader": {
     "grade": false,
     "grade_id": "cell-1f2bdfa05de72149",
     "locked": false,
     "schema_version": 3,
     "solution": true,
     "task": false
    }
   },
   "outputs": [],
   "source": [
    "def Q_sigma(n, sigma):\n",
    "    env = gym.make('Pendulum-v1')\n",
    "    env = env.unwrapped\n",
    "\n",
    "    action_values = np.zeros([d_theta, d_theta, d_omega, d_T])\n",
    "    pi = np.zeros([d_theta, d_theta, d_omega], dtype=int)  # on policy: b=pi\n",
    "\n",
    "    alpha = 0.1\n",
    "    gamma = 0.9\n",
    "    epsilon = 0.1\n",
    "    # sigma is an argument of this function\n",
    "    nb_steps = 500\n",
    "    nb_episodes = 2000\n",
    "\n",
    "    reward_history = []\n",
    "\n",
    "    for j in tqdm(range(nb_episodes), position=0, leave=True):\n",
    "\n",
    "        # BEGIN SOLUTION\n",
    "\n",
    "        states = []\n",
    "        actions = []\n",
    "        rewards = []\n",
    "        rhos = []\n",
    "\n",
    "        state, _ = env.reset()\n",
    "        state = tuple(discretize_state(state))\n",
    "\n",
    "        action = pi[state]\n",
    "\n",
    "        states.append(state)\n",
    "        actions.append((action),)\n",
    "\n",
    "        terminated = False\n",
    "        k_T = None\n",
    "\n",
    "        for k in range(nb_steps + n - 2):\n",
    "\n",
    "            if not terminated:\n",
    "                action = continualize_action(action)\n",
    "                state, reward, terminated, _, _ = env.step(action)\n",
    "                state = tuple(discretize_state(state))\n",
    "\n",
    "                states.append(state)\n",
    "                rewards.append(reward)\n",
    "\n",
    "            if not terminated:\n",
    "                if epsilon > np.random.uniform(0, 1):\n",
    "                    action = np.random.choice(d_T)\n",
    "                    rho = 0\n",
    "                else:\n",
    "                    action = pi[state]\n",
    "                    rho = 1 / (1 - epsilon + epsilon / d_T)\n",
    "\n",
    "                actions.append((action, ))\n",
    "                rhos.append(rho)\n",
    "\n",
    "            elif k_T == None:\n",
    "                k_T = k + 1\n",
    "\n",
    "            tau = k - n + 1\n",
    "\n",
    "            if tau >= 0:\n",
    "                g = 0\n",
    "\n",
    "                if not k_T == None:\n",
    "                    i_idx_start = np.min([k, k_T - 1])\n",
    "                else:\n",
    "                    i_idx_start = k\n",
    "                i_idx_range = np.arange(i_idx_start, tau, -1)\n",
    "\n",
    "                for i in i_idx_range:\n",
    "                    if not terminated:\n",
    "                        # Similar to previous task, policies denote 0 and 1 probabilities between taken action and given states\n",
    "                        v_mean = np.max(action_values[states[i]])\n",
    "                        sigma_sum = sigma * \\\n",
    "                            rhos[i-1] + (1-sigma) * \\\n",
    "                            int(actions[i][0] == pi[states[i]])\n",
    "                        g = rewards[i-1] + gamma * (sigma_sum * (\n",
    "                            g - action_values[states[i] + actions[i]]) + v_mean)\n",
    "                    elif i == k_T-1:\n",
    "                        g = rewards[i-1]\n",
    "                try:\n",
    "                    action_values[states[tau]][actions[tau]] += alpha * \\\n",
    "                        (g - action_values[states[tau]][actions[tau]])\n",
    "                    pi[states[tau]] = np.argmax(action_values[states[tau]])\n",
    "                except IndexError as ie:\n",
    "                    print(\n",
    "                        f\"Thrown with: tau: {tau}, states[tau]: {states[tau]}, actions[tau]: {actions[tau]}, action_values[states[tau]]: {action_values[states[tau]]}\")\n",
    "                    raise ie\n",
    "\n",
    "        reward_history.append(np.sum(rewards))\n",
    "\n",
    "    return pi, reward_history\n",
    "\n",
    "# END SOLUTION\n"
   ]
  },
  {
   "cell_type": "code",
   "execution_count": 15,
   "metadata": {
    "nbgrader": {
     "grade": false,
     "grade_id": "cell-1679efea79ea461e",
     "locked": false,
     "schema_version": 3,
     "solution": true,
     "task": false
    },
    "scrolled": false
   },
   "outputs": [],
   "source": [
    "# install joblib with\n",
    "# >>> pip install joblib\n",
    "\n",
    "from joblib import Parallel, delayed\n",
    "\n",
    "ns = np.arange(6) * 2\n",
    "sigmas = np.linspace(0, 1, 6)\n",
    "\n",
    "# BEGIN SOLUTION\n",
    "\n",
    "performances = np.zeros([len(ns), len(sigmas)])\n",
    "\n",
    "# parallelize over hyperparameters\n",
    "with Parallel(n_jobs=-1) as prll:\n",
    "    ret = prll(delayed(Q_sigma)(n, sig) for n in ns for sig in sigmas)\n",
    "pis, reward_histories = list(zip(*ret))\n",
    "performances = np.array(reward_histories).sum(\n",
    "    axis=1).reshape((len(ns), len(sigmas)))\n",
    "\n",
    "# END SOLUTION\n"
   ]
  },
  {
   "cell_type": "code",
   "execution_count": 16,
   "metadata": {
    "nbgrader": {
     "grade": true,
     "grade_id": "cell-a4fdeab624874b06",
     "locked": false,
     "points": 0,
     "schema_version": 3,
     "solution": true,
     "task": false
    },
    "scrolled": true
   },
   "outputs": [
    {
     "name": "stdout",
     "output_type": "stream",
     "text": [
      "[[-7369924.34 -7379927.89 -7376227.43 -7395713.05 -7365602.34 -7429582.94]\n",
      " [-6322853.75 -6291212.09 -6308286.67 -6311778.81 -6357580.47 -6233458.39]\n",
      " [-6338167.13 -6416915.89 -6597194.77 -6494040.5  -6701175.05 -6680042.54]\n",
      " [-5448468.45 -5694317.24 -5863846.73 -5957375.71 -6013072.27 -5908349.75]\n",
      " [-3954387.34 -4183799.32 -4780102.79 -5064861.38 -5497501.1  -5612968.15]\n",
      " [-2977253.73 -3160486.94 -3546023.86 -4103447.94 -4710119.19 -5075145.07]]\n"
     ]
    }
   ],
   "source": [
    "np.set_printoptions(precision=2)\n",
    "print(performances)"
   ]
  },
  {
   "cell_type": "code",
   "execution_count": 17,
   "metadata": {
    "nbgrader": {
     "grade": true,
     "grade_id": "cell-b8963cbbf439b147",
     "locked": false,
     "points": 0,
     "schema_version": 3,
     "solution": true,
     "task": false
    }
   },
   "outputs": [
    {
     "data": {
      "application/vnd.jupyter.widget-view+json": {
       "model_id": "2b0c96988a684ead9c388535228dd042",
       "version_major": 2,
       "version_minor": 0
      },
      "text/plain": [
       "  0%|          | 0/2000 [00:00<?, ?it/s]"
      ]
     },
     "metadata": {},
     "output_type": "display_data"
    }
   ],
   "source": [
    "pi, reward_history = Q_sigma(n=10, sigma=0)\n",
    "perf = np.sum(reward_history)"
   ]
  },
  {
   "cell_type": "code",
   "execution_count": 18,
   "metadata": {
    "nbgrader": {
     "grade": true,
     "grade_id": "cell-016c9036ab51035e",
     "locked": false,
     "points": 0,
     "schema_version": 3,
     "solution": true,
     "task": false
    }
   },
   "outputs": [
    {
     "data": {
      "image/png": "[encoded data removed]",
      "text/plain": [
       "<Figure size 800x550 with 1 Axes>"
      ]
     },
     "metadata": {},
     "output_type": "display_data"
    },
    {
     "name": "stdout",
     "output_type": "stream",
     "text": [
      "(2000,)\n"
     ]
    }
   ],
   "source": [
    "plt.plot(reward_history)\n",
    "plt.xlabel(\"episode\")\n",
    "plt.ylabel(r\"$\\sum R$\")\n",
    "plt.show()\n",
    "\n",
    "print(np.shape(reward_history))"
   ]
  },
  {
   "cell_type": "code",
   "execution_count": 19,
   "metadata": {
    "nbgrader": {
     "grade": false,
     "grade_id": "cell-17662c6ed4aabfd9",
     "locked": true,
     "schema_version": 3,
     "solution": false,
     "task": false
    }
   },
   "outputs": [],
   "source": [
    "env = gym.make('Pendulum-v1', render_mode=\"human\")\n",
    "env = env.unwrapped\n",
    "\n",
    "nb_steps = 500\n",
    "\n",
    "state, _ = env.reset()  # initialize x_0\n",
    "disc_state = tuple(discretize_state(state))  # use tuple indexing\n",
    "disc_action = pi[disc_state]\n",
    "\n",
    "for k in range(nb_steps):\n",
    "\n",
    "    cont_action = continualize_action(disc_action)\n",
    "    env.render()  # comment out for faster execution\n",
    "    state, reward, terminated, _, _ = env.step(cont_action)\n",
    "    disc_state = tuple(discretize_state(state))\n",
    "\n",
    "    if terminated:\n",
    "        break\n",
    "\n",
    "    disc_action = pi[disc_state]  # exploitative action\n",
    "\n",
    "env.close()\n"
   ]
  },
  {
   "cell_type": "code",
   "execution_count": null,
   "metadata": {},
   "outputs": [],
   "source": []
  }
 ],
 "metadata": {
  "celltoolbar": "Create Assignment",
  "kernelspec": {
   "display_name": "Python 3",
   "language": "python",
   "name": "python3"
  },
  "language_info": {
   "codemirror_mode": {
    "name": "ipython",
    "version": 3
   },
   "file_extension": ".py",
   "mimetype": "text/x-python",
   "name": "python",
   "nbconvert_exporter": "python",
   "pygments_lexer": "ipython3",
   "version": "3.8.3"
  }
 },
 "nbformat": 4,
 "nbformat_minor": 4
}
